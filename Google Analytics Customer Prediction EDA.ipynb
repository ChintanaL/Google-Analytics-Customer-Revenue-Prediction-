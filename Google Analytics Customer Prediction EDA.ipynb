{
 "cells": [
  {
   "cell_type": "code",
   "execution_count": 2,
   "metadata": {},
   "outputs": [
    {
     "data": {
      "text/html": [
       "        <script type=\"text/javascript\">\n",
       "        window.PlotlyConfig = {MathJaxConfig: 'local'};\n",
       "        if (window.MathJax) {MathJax.Hub.Config({SVG: {font: \"STIX-Web\"}});}\n",
       "        if (typeof require !== 'undefined') {\n",
       "        require.undef(\"plotly\");\n",
       "        requirejs.config({\n",
       "            paths: {\n",
       "                'plotly': ['https://cdn.plot.ly/plotly-latest.min']\n",
       "            }\n",
       "        });\n",
       "        require(['plotly'], function(Plotly) {\n",
       "            window._Plotly = Plotly;\n",
       "        });\n",
       "        }\n",
       "        </script>\n",
       "        "
      ]
     },
     "metadata": {},
     "output_type": "display_data"
    }
   ],
   "source": [
    "import os\n",
    "import json\n",
    "import numpy as np\n",
    "import pandas as pd\n",
    "from pandas.io.json import json_normalize\n",
    "\n",
    "import matplotlib.pyplot as plt\n",
    "import seaborn as sns\n",
    "color = sns.color_palette()\n",
    "\n",
    "%matplotlib inline\n",
    "\n",
    "from plotly import tools\n",
    "import plotly.offline as py\n",
    "py.init_notebook_mode(connected=True)\n",
    "import plotly.graph_objs as go\n",
    "\n",
    "from sklearn import model_selection, preprocessing, metrics\n",
    "import lightgbm as lgb\n",
    "pd.options.mode.chained_assignment = None\n",
    "pd.options.display.max_columns = 999\n",
    "\n",
    "\n",
    "def load_df(csv_path='train_v2.csv', nrows=None):\n",
    "    JSON_COLUMNS = ['device', 'geoNetwork', 'totals', 'trafficSource']\n",
    "    \n",
    "    df = pd.read_csv(csv_path, \n",
    "                     converters={column: json.loads for column in JSON_COLUMNS}, \n",
    "                     nrows=30000,\n",
    "                     dtype={'fullVisitorId':'str'}\n",
    "                     )\n",
    "    \n",
    "    for column in JSON_COLUMNS:\n",
    "        column_as_df = json_normalize(df[column])\n",
    "        column_as_df.columns = [f\"{column}.{subcolumn}\" for subcolumn in column_as_df.columns]\n",
    "        df = df.drop(column, axis=1).merge(column_as_df, right_index=True, left_index=True)\n",
    "    print(f\"Loaded {os.path.basename(csv_path)}. Shape: {df.shape}\")\n",
    "    return df"
   ]
  },
  {
   "cell_type": "code",
   "execution_count": 3,
   "metadata": {},
   "outputs": [
    {
     "name": "stdout",
     "output_type": "stream",
     "text": [
      "Loaded train_v2.csv. Shape: (30000, 59)\n"
     ]
    }
   ],
   "source": [
    "train_df = load_df()\n",
    "\n",
    "#test_df = load_df(\"test_v2.csv\")"
   ]
  },
  {
   "cell_type": "code",
   "execution_count": 33,
   "metadata": {},
   "outputs": [
    {
     "name": "stdout",
     "output_type": "stream",
     "text": [
      "Loaded train_v2.csv. Shape: (30000, 59)\n"
     ]
    }
   ],
   "source": [
    "test_df = load_df()"
   ]
  },
  {
   "cell_type": "code",
   "execution_count": 4,
   "metadata": {},
   "outputs": [
    {
     "name": "stdout",
     "output_type": "stream",
     "text": [
      "Index(['channelGrouping', 'customDimensions', 'date', 'fullVisitorId', 'hits',\n",
      "       'socialEngagementType', 'visitId', 'visitNumber', 'visitStartTime',\n",
      "       'device.browser', 'device.browserSize', 'device.browserVersion',\n",
      "       'device.deviceCategory', 'device.flashVersion', 'device.isMobile',\n",
      "       'device.language', 'device.mobileDeviceBranding',\n",
      "       'device.mobileDeviceInfo', 'device.mobileDeviceMarketingName',\n",
      "       'device.mobileDeviceModel', 'device.mobileInputSelector',\n",
      "       'device.operatingSystem', 'device.operatingSystemVersion',\n",
      "       'device.screenColors', 'device.screenResolution', 'geoNetwork.city',\n",
      "       'geoNetwork.cityId', 'geoNetwork.continent', 'geoNetwork.country',\n",
      "       'geoNetwork.latitude', 'geoNetwork.longitude', 'geoNetwork.metro',\n",
      "       'geoNetwork.networkDomain', 'geoNetwork.networkLocation',\n",
      "       'geoNetwork.region', 'geoNetwork.subContinent', 'totals.bounces',\n",
      "       'totals.hits', 'totals.newVisits', 'totals.pageviews',\n",
      "       'totals.sessionQualityDim', 'totals.timeOnSite',\n",
      "       'totals.totalTransactionRevenue', 'totals.transactionRevenue',\n",
      "       'totals.transactions', 'totals.visits', 'trafficSource.adContent',\n",
      "       'trafficSource.adwordsClickInfo.adNetworkType',\n",
      "       'trafficSource.adwordsClickInfo.criteriaParameters',\n",
      "       'trafficSource.adwordsClickInfo.gclId',\n",
      "       'trafficSource.adwordsClickInfo.isVideoAd',\n",
      "       'trafficSource.adwordsClickInfo.page',\n",
      "       'trafficSource.adwordsClickInfo.slot', 'trafficSource.campaign',\n",
      "       'trafficSource.isTrueDirect', 'trafficSource.keyword',\n",
      "       'trafficSource.medium', 'trafficSource.referralPath',\n",
      "       'trafficSource.source'],\n",
      "      dtype='object')\n",
      "channelGrouping                                      object\n",
      "customDimensions                                     object\n",
      "date                                                  int64\n",
      "fullVisitorId                                        object\n",
      "hits                                                 object\n",
      "socialEngagementType                                 object\n",
      "visitId                                               int64\n",
      "visitNumber                                           int64\n",
      "visitStartTime                                        int64\n",
      "device.browser                                       object\n",
      "device.browserSize                                   object\n",
      "device.browserVersion                                object\n",
      "device.deviceCategory                                object\n",
      "device.flashVersion                                  object\n",
      "device.isMobile                                        bool\n",
      "device.language                                      object\n",
      "device.mobileDeviceBranding                          object\n",
      "device.mobileDeviceInfo                              object\n",
      "device.mobileDeviceMarketingName                     object\n",
      "device.mobileDeviceModel                             object\n",
      "device.mobileInputSelector                           object\n",
      "device.operatingSystem                               object\n",
      "device.operatingSystemVersion                        object\n",
      "device.screenColors                                  object\n",
      "device.screenResolution                              object\n",
      "geoNetwork.city                                      object\n",
      "geoNetwork.cityId                                    object\n",
      "geoNetwork.continent                                 object\n",
      "geoNetwork.country                                   object\n",
      "geoNetwork.latitude                                  object\n",
      "geoNetwork.longitude                                 object\n",
      "geoNetwork.metro                                     object\n",
      "geoNetwork.networkDomain                             object\n",
      "geoNetwork.networkLocation                           object\n",
      "geoNetwork.region                                    object\n",
      "geoNetwork.subContinent                              object\n",
      "totals.bounces                                       object\n",
      "totals.hits                                          object\n",
      "totals.newVisits                                     object\n",
      "totals.pageviews                                     object\n",
      "totals.sessionQualityDim                             object\n",
      "totals.timeOnSite                                    object\n",
      "totals.totalTransactionRevenue                       object\n",
      "totals.transactionRevenue                            object\n",
      "totals.transactions                                  object\n",
      "totals.visits                                        object\n",
      "trafficSource.adContent                              object\n",
      "trafficSource.adwordsClickInfo.adNetworkType         object\n",
      "trafficSource.adwordsClickInfo.criteriaParameters    object\n",
      "trafficSource.adwordsClickInfo.gclId                 object\n",
      "trafficSource.adwordsClickInfo.isVideoAd             object\n",
      "trafficSource.adwordsClickInfo.page                  object\n",
      "trafficSource.adwordsClickInfo.slot                  object\n",
      "trafficSource.campaign                               object\n",
      "trafficSource.isTrueDirect                           object\n",
      "trafficSource.keyword                                object\n",
      "trafficSource.medium                                 object\n",
      "trafficSource.referralPath                           object\n",
      "trafficSource.source                                 object\n",
      "dtype: object\n"
     ]
    }
   ],
   "source": [
    "#print(train_df.head())\n",
    "print(train_df.columns)\n",
    "print(train_df.dtypes)"
   ]
  },
  {
   "cell_type": "code",
   "execution_count": 5,
   "metadata": {},
   "outputs": [
    {
     "data": {
      "image/png": "[encoded data removed]",
      "text/plain": [
       "<Figure size 576x432 with 1 Axes>"
      ]
     },
     "metadata": {
      "needs_background": "light"
     },
     "output_type": "display_data"
    }
   ],
   "source": [
    "\n",
    "\n",
    "train_df[\"totals.transactionRevenue\"] = train_df[\"totals.transactionRevenue\"].astype('float')\n",
    "gdf = train_df.groupby(\"fullVisitorId\")[\"totals.transactionRevenue\"].sum().reset_index()\n",
    "\n",
    "plt.figure(figsize=(8,6))\n",
    "plt.scatter(range(gdf.shape[0]), np.sort(np.log1p(gdf[\"totals.transactionRevenue\"].values)))\n",
    "plt.xlabel('index', fontsize=12)\n",
    "plt.ylabel('TransactionRevenue', fontsize=12)\n",
    "plt.show()\n"
   ]
  },
  {
   "cell_type": "code",
   "execution_count": 6,
   "metadata": {},
   "outputs": [
    {
     "data": {
      "image/png": "[encoded data removed]",
      "text/plain": [
       "<Figure size 576x432 with 1 Axes>"
      ]
     },
     "metadata": {
      "needs_background": "light"
     },
     "output_type": "display_data"
    }
   ],
   "source": [
    "plt.figure(figsize=(8,6))\n",
    "plt.scatter(range(gdf.shape[0]), np.sort((gdf[\"totals.transactionRevenue\"].values)))\n",
    "plt.xlabel('index', fontsize=12)\n",
    "plt.ylabel('TransactionRevenue', fontsize=12)\n",
    "plt.show()"
   ]
  },
  {
   "cell_type": "code",
   "execution_count": 7,
   "metadata": {},
   "outputs": [
    {
     "name": "stdout",
     "output_type": "stream",
     "text": [
      "The number of transactions with non-zero revenue in the training set is 321 and the ratio is  0.0107\n",
      "The number of unique customers in the dataset who have actually purchased something is 0.011492570090037332\n"
     ]
    }
   ],
   "source": [
    "# Calculating the number of non-zero revence instances in the dataset\n",
    "\n",
    "non_zero_train = pd.notnull(train_df[\"totals.transactionRevenue\"]).sum()\n",
    "print(\"The number of transactions with non-zero revenue in the training set is\",non_zero_train,\"and the ratio is \",non_zero_train/len(train_df))\n",
    "\n",
    "#Now lets find the number of unique customers who have actually purchased something \n",
    "\n",
    "print(\"The number of unique customers in the dataset who have actually purchased something is\",(gdf[\"totals.transactionRevenue\"]>0).sum()/len(gdf))\n",
    "\n",
    "#We see that the ration is actually around 1.1% which means that out of all the customers who visit the site only around 1% \n",
    "#actually end up makking a transaction/purchase contributing to the revenue"
   ]
  },
  {
   "cell_type": "code",
   "execution_count": 13,
   "metadata": {},
   "outputs": [
    {
     "data": {
      "text/plain": [
       "pandas.core.series.Series"
      ]
     },
     "execution_count": 13,
     "metadata": {},
     "output_type": "execute_result"
    }
   ],
   "source": [
    "##Analysing different features in the data such as browser type, device type\n",
    "#device.browser\n",
    "#import plotly.plotly as py\n",
    "#import plotly.graph_objs as go\n",
    "#from plotly import tools\n",
    "#tools.set_credentials_file(username='clakshmanan', api_key='WFpScgzth8MoM4fPOdBu')\n",
    "\n",
    "\n",
    "def horizontal_bar_chart(cnt_srs, color):\n",
    "    trace = go.Bar(\n",
    "        y=cnt_srs.index[::-1],\n",
    "        x=cnt_srs.values[::-1],\n",
    "        showlegend=False,\n",
    "        orientation = 'h',\n",
    "        marker=dict(\n",
    "            color=color,\n",
    "        ),\n",
    "    )\n",
    "    return trace\n",
    "\n",
    "\n",
    "\n",
    "\n",
    "type(train_df['device.browser'])\n"
   ]
  },
  {
   "cell_type": "code",
   "execution_count": 17,
   "metadata": {},
   "outputs": [
    {
     "name": "stdout",
     "output_type": "stream",
     "text": [
      "This is the format of your plot grid:\n",
      "[ (1,1) x1,y1 ]  [ (1,2) x2,y2 ]  [ (1,3) x3,y3 ]\n",
      "[ (2,1) x4,y4 ]  [ (2,2) x5,y5 ]  [ (2,3) x6,y6 ]\n",
      "[ (3,1) x7,y7 ]  [ (3,2) x8,y8 ]  [ (3,3) x9,y9 ]\n",
      "\n"
     ]
    },
    {
     "data": {
      "application/vnd.plotly.v1+json": {
       "config": {
        "linkText": "Export to plot.ly",
        "plotlyServerURL": "https://plot.ly",
        "showLink": false
       },
       "data": [
        {
         "marker": {
          "color": "rgba(50, 171, 96, 0.6)"
         },
         "orientation": "h",
         "showlegend": false,
         "type": "bar",
         "uid": "62486cd5-ebb5-4b8f-95e1-be843f962719",
         "x": [
          181,
          196,
          245,
          284,
          387,
          425,
          750,
          1242,
          5043,
          21016
         ],
         "xaxis": "x",
         "y": [
          "Opera",
          "Samsung Internet",
          "Safari (in-app)",
          "Opera Mini",
          "Edge",
          "Android Webview",
          "Internet Explorer",
          "Firefox",
          "Safari",
          "Chrome"
         ],
         "yaxis": "y"
        },
        {
         "marker": {
          "color": "rgba(50, 171, 96, 0.6)"
         },
         "orientation": "h",
         "showlegend": false,
         "type": "bar",
         "uid": "208c3372-a3ae-4ec6-99b1-dc7357eeb409",
         "x": [
          0,
          0,
          1,
          0,
          4,
          0,
          1,
          7,
          22,
          286
         ],
         "xaxis": "x2",
         "y": [
          "Opera",
          "Samsung Internet",
          "Safari (in-app)",
          "Opera Mini",
          "Edge",
          "Android Webview",
          "Internet Explorer",
          "Firefox",
          "Safari",
          "Chrome"
         ],
         "yaxis": "y2"
        },
        {
         "marker": {
          "color": "rgba(50, 171, 96, 0.6)"
         },
         "orientation": "h",
         "showlegend": false,
         "type": "bar",
         "uid": "0436767f-d962-4dd6-8a55-956a012373a5",
         "x": [
          null,
          null,
          16970000,
          null,
          11487500,
          null,
          42000000,
          86151428.57142857,
          56622727.27272727,
          125433076.92307693
         ],
         "xaxis": "x3",
         "y": [
          "Opera",
          "Samsung Internet",
          "Safari (in-app)",
          "Opera Mini",
          "Edge",
          "Android Webview",
          "Internet Explorer",
          "Firefox",
          "Safari",
          "Chrome"
         ],
         "yaxis": "y3"
        },
        {
         "marker": {
          "color": "rgba(71, 58, 131, 0.8)"
         },
         "orientation": "h",
         "showlegend": false,
         "type": "bar",
         "uid": "21a8e580-3b32-4175-b110-87273f132da8",
         "x": [
          1028,
          8017,
          20955
         ],
         "xaxis": "x4",
         "y": [
          "tablet",
          "mobile",
          "desktop"
         ],
         "yaxis": "y4"
        },
        {
         "marker": {
          "color": "rgba(71, 58, 131, 0.8)"
         },
         "orientation": "h",
         "showlegend": false,
         "type": "bar",
         "uid": "1601b744-7a13-4567-8a84-95942e8eb349",
         "x": [
          2,
          24,
          295
         ],
         "xaxis": "x5",
         "y": [
          "tablet",
          "mobile",
          "desktop"
         ],
         "yaxis": "y5"
        },
        {
         "marker": {
          "color": "rgba(71, 58, 131, 0.8)"
         },
         "orientation": "h",
         "showlegend": false,
         "type": "bar",
         "uid": "aad9c8f2-1066-4701-84c5-656267ff59ac",
         "x": [
          63715000,
          54748333.333333336,
          123342881.3559322
         ],
         "xaxis": "x6",
         "y": [
          "tablet",
          "mobile",
          "desktop"
         ],
         "yaxis": "y6"
        },
        {
         "marker": {
          "color": "rgba(246, 78, 139, 0.6)"
         },
         "orientation": "h",
         "showlegend": false,
         "type": "bar",
         "uid": "28b85bd0-d5dd-4e0f-8bba-580a61336713",
         "x": [
          15,
          16,
          49,
          204,
          1002,
          1280,
          3898,
          4794,
          7526,
          11190
         ],
         "xaxis": "x7",
         "y": [
          "Tizen",
          "Samsung",
          "Windows Phone",
          "(not set)",
          "Chrome OS",
          "Linux",
          "iOS",
          "Android",
          "Macintosh",
          "Windows"
         ],
         "yaxis": "y7"
        },
        {
         "marker": {
          "color": "rgba(246, 78, 139, 0.6)"
         },
         "orientation": "h",
         "showlegend": false,
         "type": "bar",
         "uid": "0e185d30-b9e2-4113-9e01-6a0e248eaa4a",
         "x": [
          0,
          0,
          1,
          0,
          35,
          26,
          15,
          9,
          181,
          54
         ],
         "xaxis": "x8",
         "y": [
          "Tizen",
          "Samsung",
          "Windows Phone",
          "(not set)",
          "Chrome OS",
          "Linux",
          "iOS",
          "Android",
          "Macintosh",
          "Windows"
         ],
         "yaxis": "y8"
        },
        {
         "marker": {
          "color": "rgba(246, 78, 139, 0.6)"
         },
         "orientation": "h",
         "showlegend": false,
         "type": "bar",
         "uid": "c699b4f2-3409-42e3-8c13-fcc10fde8968",
         "x": [
          null,
          null,
          26400000,
          null,
          137584285.7142857,
          57052692.307692304,
          44445333.333333336,
          78478888.8888889,
          141906464.0883978,
          82301111.1111111
         ],
         "xaxis": "x9",
         "y": [
          "Tizen",
          "Samsung",
          "Windows Phone",
          "(not set)",
          "Chrome OS",
          "Linux",
          "iOS",
          "Android",
          "Macintosh",
          "Windows"
         ],
         "yaxis": "y9"
        }
       ],
       "layout": {
        "annotations": [
         {
          "font": {
           "size": 16
          },
          "showarrow": false,
          "text": "Device Browser - Count",
          "x": 0.14444444444444446,
          "xanchor": "center",
          "xref": "paper",
          "y": 1,
          "yanchor": "bottom",
          "yref": "paper"
         },
         {
          "font": {
           "size": 16
          },
          "showarrow": false,
          "text": "Device Browser - Non-zero Revenue Count",
          "x": 0.5,
          "xanchor": "center",
          "xref": "paper",
          "y": 1,
          "yanchor": "bottom",
          "yref": "paper"
         },
         {
          "font": {
           "size": 16
          },
          "showarrow": false,
          "text": "Device Browser - Mean Revenue",
          "x": 0.8555555555555556,
          "xanchor": "center",
          "xref": "paper",
          "y": 1,
          "yanchor": "bottom",
          "yref": "paper"
         },
         {
          "font": {
           "size": 16
          },
          "showarrow": false,
          "text": "Device Category - Count",
          "x": 0.14444444444444446,
          "xanchor": "center",
          "xref": "paper",
          "y": 0.6533333333333333,
          "yanchor": "bottom",
          "yref": "paper"
         },
         {
          "font": {
           "size": 16
          },
          "showarrow": false,
          "text": "Device Category - Non-zero Revenue Count",
          "x": 0.5,
          "xanchor": "center",
          "xref": "paper",
          "y": 0.6533333333333333,
          "yanchor": "bottom",
          "yref": "paper"
         },
         {
          "font": {
           "size": 16
          },
          "showarrow": false,
          "text": "Device Category - Mean Revenue",
          "x": 0.8555555555555556,
          "xanchor": "center",
          "xref": "paper",
          "y": 0.6533333333333333,
          "yanchor": "bottom",
          "yref": "paper"
         },
         {
          "font": {
           "size": 16
          },
          "showarrow": false,
          "text": "Device OS - Count",
          "x": 0.14444444444444446,
          "xanchor": "center",
          "xref": "paper",
          "y": 0.3066666666666667,
          "yanchor": "bottom",
          "yref": "paper"
         },
         {
          "font": {
           "size": 16
          },
          "showarrow": false,
          "text": "Device OS - Non-zero Revenue Count",
          "x": 0.5,
          "xanchor": "center",
          "xref": "paper",
          "y": 0.3066666666666667,
          "yanchor": "bottom",
          "yref": "paper"
         },
         {
          "font": {
           "size": 16
          },
          "showarrow": false,
          "text": "Device OS - Mean Revenue",
          "x": 0.8555555555555556,
          "xanchor": "center",
          "xref": "paper",
          "y": 0.3066666666666667,
          "yanchor": "bottom",
          "yref": "paper"
         }
        ],
        "height": 1200,
        "paper_bgcolor": "rgb(233,233,233)",
        "title": {
         "text": "Device Plots"
        },
        "width": 1200,
        "xaxis": {
         "anchor": "y",
         "domain": [
          0,
          0.2888888888888889
         ]
        },
        "xaxis2": {
         "anchor": "y2",
         "domain": [
          0.35555555555555557,
          0.6444444444444445
         ]
        },
        "xaxis3": {
         "anchor": "y3",
         "domain": [
          0.7111111111111111,
          1
         ]
        },
        "xaxis4": {
         "anchor": "y4",
         "domain": [
          0,
          0.2888888888888889
         ]
        },
        "xaxis5": {
         "anchor": "y5",
         "domain": [
          0.35555555555555557,
          0.6444444444444445
         ]
        },
        "xaxis6": {
         "anchor": "y6",
         "domain": [
          0.7111111111111111,
          1
         ]
        },
        "xaxis7": {
         "anchor": "y7",
         "domain": [
          0,
          0.2888888888888889
         ]
        },
        "xaxis8": {
         "anchor": "y8",
         "domain": [
          0.35555555555555557,
          0.6444444444444445
         ]
        },
        "xaxis9": {
         "anchor": "y9",
         "domain": [
          0.7111111111111111,
          1
         ]
        },
        "yaxis": {
         "anchor": "x",
         "domain": [
          0.6933333333333334,
          1
         ]
        },
        "yaxis2": {
         "anchor": "x2",
         "domain": [
          0.6933333333333334,
          1
         ]
        },
        "yaxis3": {
         "anchor": "x3",
         "domain": [
          0.6933333333333334,
          1
         ]
        },
        "yaxis4": {
         "anchor": "x4",
         "domain": [
          0.3466666666666667,
          0.6533333333333333
         ]
        },
        "yaxis5": {
         "anchor": "x5",
         "domain": [
          0.3466666666666667,
          0.6533333333333333
         ]
        },
        "yaxis6": {
         "anchor": "x6",
         "domain": [
          0.3466666666666667,
          0.6533333333333333
         ]
        },
        "yaxis7": {
         "anchor": "x7",
         "domain": [
          0,
          0.3066666666666667
         ]
        },
        "yaxis8": {
         "anchor": "x8",
         "domain": [
          0,
          0.3066666666666667
         ]
        },
        "yaxis9": {
         "anchor": "x9",
         "domain": [
          0,
          0.3066666666666667
         ]
        }
       }
      },
      "text/html": [
       "<div>\n",
       "        \n",
       "        \n",
       "            <div id=\"6acb5beb-b56a-43a2-9c83-41d716d7b2d1\" class=\"plotly-graph-div\" style=\"height:1200px; width:1200px;\"></div>\n",
       "            <script type=\"text/javascript\">\n",
       "                require([\"plotly\"], function(Plotly) {\n",
       "                    window.PLOTLYENV=window.PLOTLYENV || {};\n",
       "                    window.PLOTLYENV.BASE_URL='https://plot.ly';\n",
       "                    \n",
       "                if (document.getElementById(\"6acb5beb-b56a-43a2-9c83-41d716d7b2d1\")) {\n",
       "                    Plotly.newPlot(\n",
       "                        '6acb5beb-b56a-43a2-9c83-41d716d7b2d1',\n",
       "                        [{\"marker\": {\"color\": \"rgba(50, 171, 96, 0.6)\"}, \"orientation\": \"h\", \"showlegend\": false, \"type\": \"bar\", \"uid\": \"62486cd5-ebb5-4b8f-95e1-be843f962719\", \"x\": [181, 196, 245, 284, 387, 425, 750, 1242, 5043, 21016], \"xaxis\": \"x\", \"y\": [\"Opera\", \"Samsung Internet\", \"Safari (in-app)\", \"Opera Mini\", \"Edge\", \"Android Webview\", \"Internet Explorer\", \"Firefox\", \"Safari\", \"Chrome\"], \"yaxis\": \"y\"}, {\"marker\": {\"color\": \"rgba(50, 171, 96, 0.6)\"}, \"orientation\": \"h\", \"showlegend\": false, \"type\": \"bar\", \"uid\": \"208c3372-a3ae-4ec6-99b1-dc7357eeb409\", \"x\": [0, 0, 1, 0, 4, 0, 1, 7, 22, 286], \"xaxis\": \"x2\", \"y\": [\"Opera\", \"Samsung Internet\", \"Safari (in-app)\", \"Opera Mini\", \"Edge\", \"Android Webview\", \"Internet Explorer\", \"Firefox\", \"Safari\", \"Chrome\"], \"yaxis\": \"y2\"}, {\"marker\": {\"color\": \"rgba(50, 171, 96, 0.6)\"}, \"orientation\": \"h\", \"showlegend\": false, \"type\": \"bar\", \"uid\": \"0436767f-d962-4dd6-8a55-956a012373a5\", \"x\": [null, null, 16970000.0, null, 11487500.0, null, 42000000.0, 86151428.57142857, 56622727.27272727, 125433076.92307693], \"xaxis\": \"x3\", \"y\": [\"Opera\", \"Samsung Internet\", \"Safari (in-app)\", \"Opera Mini\", \"Edge\", \"Android Webview\", \"Internet Explorer\", \"Firefox\", \"Safari\", \"Chrome\"], \"yaxis\": \"y3\"}, {\"marker\": {\"color\": \"rgba(71, 58, 131, 0.8)\"}, \"orientation\": \"h\", \"showlegend\": false, \"type\": \"bar\", \"uid\": \"21a8e580-3b32-4175-b110-87273f132da8\", \"x\": [1028, 8017, 20955], \"xaxis\": \"x4\", \"y\": [\"tablet\", \"mobile\", \"desktop\"], \"yaxis\": \"y4\"}, {\"marker\": {\"color\": \"rgba(71, 58, 131, 0.8)\"}, \"orientation\": \"h\", \"showlegend\": false, \"type\": \"bar\", \"uid\": \"1601b744-7a13-4567-8a84-95942e8eb349\", \"x\": [2, 24, 295], \"xaxis\": \"x5\", \"y\": [\"tablet\", \"mobile\", \"desktop\"], \"yaxis\": \"y5\"}, {\"marker\": {\"color\": \"rgba(71, 58, 131, 0.8)\"}, \"orientation\": \"h\", \"showlegend\": false, \"type\": \"bar\", \"uid\": \"aad9c8f2-1066-4701-84c5-656267ff59ac\", \"x\": [63715000.0, 54748333.333333336, 123342881.3559322], \"xaxis\": \"x6\", \"y\": [\"tablet\", \"mobile\", \"desktop\"], \"yaxis\": \"y6\"}, {\"marker\": {\"color\": \"rgba(246, 78, 139, 0.6)\"}, \"orientation\": \"h\", \"showlegend\": false, \"type\": \"bar\", \"uid\": \"28b85bd0-d5dd-4e0f-8bba-580a61336713\", \"x\": [15, 16, 49, 204, 1002, 1280, 3898, 4794, 7526, 11190], \"xaxis\": \"x7\", \"y\": [\"Tizen\", \"Samsung\", \"Windows Phone\", \"(not set)\", \"Chrome OS\", \"Linux\", \"iOS\", \"Android\", \"Macintosh\", \"Windows\"], \"yaxis\": \"y7\"}, {\"marker\": {\"color\": \"rgba(246, 78, 139, 0.6)\"}, \"orientation\": \"h\", \"showlegend\": false, \"type\": \"bar\", \"uid\": \"0e185d30-b9e2-4113-9e01-6a0e248eaa4a\", \"x\": [0, 0, 1, 0, 35, 26, 15, 9, 181, 54], \"xaxis\": \"x8\", \"y\": [\"Tizen\", \"Samsung\", \"Windows Phone\", \"(not set)\", \"Chrome OS\", \"Linux\", \"iOS\", \"Android\", \"Macintosh\", \"Windows\"], \"yaxis\": \"y8\"}, {\"marker\": {\"color\": \"rgba(246, 78, 139, 0.6)\"}, \"orientation\": \"h\", \"showlegend\": false, \"type\": \"bar\", \"uid\": \"c699b4f2-3409-42e3-8c13-fcc10fde8968\", \"x\": [null, null, 26400000.0, null, 137584285.7142857, 57052692.307692304, 44445333.333333336, 78478888.8888889, 141906464.0883978, 82301111.1111111], \"xaxis\": \"x9\", \"y\": [\"Tizen\", \"Samsung\", \"Windows Phone\", \"(not set)\", \"Chrome OS\", \"Linux\", \"iOS\", \"Android\", \"Macintosh\", \"Windows\"], \"yaxis\": \"y9\"}],\n",
       "                        {\"annotations\": [{\"font\": {\"size\": 16}, \"showarrow\": false, \"text\": \"Device Browser - Count\", \"x\": 0.14444444444444446, \"xanchor\": \"center\", \"xref\": \"paper\", \"y\": 1.0, \"yanchor\": \"bottom\", \"yref\": \"paper\"}, {\"font\": {\"size\": 16}, \"showarrow\": false, \"text\": \"Device Browser - Non-zero Revenue Count\", \"x\": 0.5, \"xanchor\": \"center\", \"xref\": \"paper\", \"y\": 1.0, \"yanchor\": \"bottom\", \"yref\": \"paper\"}, {\"font\": {\"size\": 16}, \"showarrow\": false, \"text\": \"Device Browser - Mean Revenue\", \"x\": 0.8555555555555556, \"xanchor\": \"center\", \"xref\": \"paper\", \"y\": 1.0, \"yanchor\": \"bottom\", \"yref\": \"paper\"}, {\"font\": {\"size\": 16}, \"showarrow\": false, \"text\": \"Device Category - Count\", \"x\": 0.14444444444444446, \"xanchor\": \"center\", \"xref\": \"paper\", \"y\": 0.6533333333333333, \"yanchor\": \"bottom\", \"yref\": \"paper\"}, {\"font\": {\"size\": 16}, \"showarrow\": false, \"text\": \"Device Category - Non-zero Revenue Count\", \"x\": 0.5, \"xanchor\": \"center\", \"xref\": \"paper\", \"y\": 0.6533333333333333, \"yanchor\": \"bottom\", \"yref\": \"paper\"}, {\"font\": {\"size\": 16}, \"showarrow\": false, \"text\": \"Device Category - Mean Revenue\", \"x\": 0.8555555555555556, \"xanchor\": \"center\", \"xref\": \"paper\", \"y\": 0.6533333333333333, \"yanchor\": \"bottom\", \"yref\": \"paper\"}, {\"font\": {\"size\": 16}, \"showarrow\": false, \"text\": \"Device OS - Count\", \"x\": 0.14444444444444446, \"xanchor\": \"center\", \"xref\": \"paper\", \"y\": 0.3066666666666667, \"yanchor\": \"bottom\", \"yref\": \"paper\"}, {\"font\": {\"size\": 16}, \"showarrow\": false, \"text\": \"Device OS - Non-zero Revenue Count\", \"x\": 0.5, \"xanchor\": \"center\", \"xref\": \"paper\", \"y\": 0.3066666666666667, \"yanchor\": \"bottom\", \"yref\": \"paper\"}, {\"font\": {\"size\": 16}, \"showarrow\": false, \"text\": \"Device OS - Mean Revenue\", \"x\": 0.8555555555555556, \"xanchor\": \"center\", \"xref\": \"paper\", \"y\": 0.3066666666666667, \"yanchor\": \"bottom\", \"yref\": \"paper\"}], \"height\": 1200, \"paper_bgcolor\": \"rgb(233,233,233)\", \"title\": {\"text\": \"Device Plots\"}, \"width\": 1200, \"xaxis\": {\"anchor\": \"y\", \"domain\": [0.0, 0.2888888888888889]}, \"xaxis2\": {\"anchor\": \"y2\", \"domain\": [0.35555555555555557, 0.6444444444444445]}, \"xaxis3\": {\"anchor\": \"y3\", \"domain\": [0.7111111111111111, 1.0]}, \"xaxis4\": {\"anchor\": \"y4\", \"domain\": [0.0, 0.2888888888888889]}, \"xaxis5\": {\"anchor\": \"y5\", \"domain\": [0.35555555555555557, 0.6444444444444445]}, \"xaxis6\": {\"anchor\": \"y6\", \"domain\": [0.7111111111111111, 1.0]}, \"xaxis7\": {\"anchor\": \"y7\", \"domain\": [0.0, 0.2888888888888889]}, \"xaxis8\": {\"anchor\": \"y8\", \"domain\": [0.35555555555555557, 0.6444444444444445]}, \"xaxis9\": {\"anchor\": \"y9\", \"domain\": [0.7111111111111111, 1.0]}, \"yaxis\": {\"anchor\": \"x\", \"domain\": [0.6933333333333334, 1.0]}, \"yaxis2\": {\"anchor\": \"x2\", \"domain\": [0.6933333333333334, 1.0]}, \"yaxis3\": {\"anchor\": \"x3\", \"domain\": [0.6933333333333334, 1.0]}, \"yaxis4\": {\"anchor\": \"x4\", \"domain\": [0.3466666666666667, 0.6533333333333333]}, \"yaxis5\": {\"anchor\": \"x5\", \"domain\": [0.3466666666666667, 0.6533333333333333]}, \"yaxis6\": {\"anchor\": \"x6\", \"domain\": [0.3466666666666667, 0.6533333333333333]}, \"yaxis7\": {\"anchor\": \"x7\", \"domain\": [0.0, 0.3066666666666667]}, \"yaxis8\": {\"anchor\": \"x8\", \"domain\": [0.0, 0.3066666666666667]}, \"yaxis9\": {\"anchor\": \"x9\", \"domain\": [0.0, 0.3066666666666667]}},\n",
       "                        {\"showLink\": false, \"linkText\": \"Export to plot.ly\", \"plotlyServerURL\": \"https://plot.ly\", \"responsive\": true}\n",
       "                    ).then(function(){\n",
       "                            \n",
       "var gd = document.getElementById('6acb5beb-b56a-43a2-9c83-41d716d7b2d1');\n",
       "var x = new MutationObserver(function (mutations, observer) {{\n",
       "        var display = window.getComputedStyle(gd).display;\n",
       "        if (!display || display === 'none') {{\n",
       "            console.log([gd, 'removed!']);\n",
       "            Plotly.purge(gd);\n",
       "            observer.disconnect();\n",
       "        }}\n",
       "}});\n",
       "\n",
       "// Listen for the removal of the full notebook cells\n",
       "var notebookContainer = gd.closest('#notebook-container');\n",
       "if (notebookContainer) {{\n",
       "    x.observe(notebookContainer, {childList: true});\n",
       "}}\n",
       "\n",
       "// Listen for the clearing of the current output cell\n",
       "var outputEl = gd.closest('.output');\n",
       "if (outputEl) {{\n",
       "    x.observe(outputEl, {childList: true});\n",
       "}}\n",
       "\n",
       "                        })\n",
       "                };\n",
       "                });\n",
       "            </script>\n",
       "        </div>"
      ]
     },
     "metadata": {},
     "output_type": "display_data"
    }
   ],
   "source": [
    "# Device Browser\n",
    "cnt_srs = train_df.groupby('device.browser')['totals.transactionRevenue'].agg(['size', 'count', 'mean'])\n",
    "cnt_srs.columns = [\"count\", \"count of non-zero revenue\", \"mean\"]\n",
    "cnt_srs = cnt_srs.sort_values(by=\"count\", ascending=False)\n",
    "trace1 = horizontal_bar_chart(cnt_srs[\"count\"].head(10), 'rgba(50, 171, 96, 0.6)')\n",
    "trace2 = horizontal_bar_chart(cnt_srs[\"count of non-zero revenue\"].head(10), 'rgba(50, 171, 96, 0.6)')\n",
    "trace3 = horizontal_bar_chart(cnt_srs[\"mean\"].head(10), 'rgba(50, 171, 96, 0.6)')\n",
    "\n",
    "\n",
    "# Device Category\n",
    "cnt_srs = train_df.groupby('device.deviceCategory')['totals.transactionRevenue'].agg(['size', 'count', 'mean'])\n",
    "cnt_srs.columns = [\"count\", \"count of non-zero revenue\", \"mean\"]\n",
    "cnt_srs = cnt_srs.sort_values(by=\"count\", ascending=False)\n",
    "trace4 = horizontal_bar_chart(cnt_srs[\"count\"].head(10), 'rgba(71, 58, 131, 0.8)')\n",
    "trace5 = horizontal_bar_chart(cnt_srs[\"count of non-zero revenue\"].head(10), 'rgba(71, 58, 131, 0.8)')\n",
    "trace6 = horizontal_bar_chart(cnt_srs[\"mean\"].head(10), 'rgba(71, 58, 131, 0.8)')\n",
    "\n",
    "# Operating system\n",
    "cnt_srs = train_df.groupby('device.operatingSystem')['totals.transactionRevenue'].agg(['size', 'count', 'mean'])\n",
    "cnt_srs.columns = [\"count\", \"count of non-zero revenue\", \"mean\"]\n",
    "cnt_srs = cnt_srs.sort_values(by=\"count\", ascending=False)\n",
    "trace7 = horizontal_bar_chart(cnt_srs[\"count\"].head(10), 'rgba(246, 78, 139, 0.6)')\n",
    "trace8 = horizontal_bar_chart(cnt_srs[\"count of non-zero revenue\"].head(10),'rgba(246, 78, 139, 0.6)')\n",
    "trace9 = horizontal_bar_chart(cnt_srs[\"mean\"].head(10),'rgba(246, 78, 139, 0.6)')\n",
    "\n",
    "# Creating two subplots\n",
    "fig = tools.make_subplots(rows=3, cols=3, vertical_spacing=0.04, \n",
    "                          subplot_titles=[\"Device Browser - Count\", \"Device Browser - Non-zero Revenue Count\", \"Device Browser - Mean Revenue\",\n",
    "                                          \"Device Category - Count\",  \"Device Category - Non-zero Revenue Count\", \"Device Category - Mean Revenue\", \n",
    "                                          \"Device OS - Count\", \"Device OS - Non-zero Revenue Count\", \"Device OS - Mean Revenue\"])\n",
    "\n",
    "fig.append_trace(trace1, 1, 1)\n",
    "fig.append_trace(trace2, 1, 2)\n",
    "fig.append_trace(trace3, 1, 3)\n",
    "fig.append_trace(trace4, 2, 1)\n",
    "fig.append_trace(trace5, 2, 2)\n",
    "fig.append_trace(trace6, 2, 3)\n",
    "fig.append_trace(trace7, 3, 1)\n",
    "fig.append_trace(trace8, 3, 2)\n",
    "fig.append_trace(trace9, 3, 3)\n",
    "\n",
    "fig['layout'].update(height=1200, width=1200, paper_bgcolor='rgb(233,233,233)', title=\"Device Plots\")\n",
    "py.iplot(fig, filename='device-plots')\n"
   ]
  },
  {
   "cell_type": "markdown",
   "metadata": {},
   "source": [
    "We can find some interesting outcomes here such as s\n",
    "\n",
    "1.) Highest number of transactions and revenue is generated from Chrome Browsers\n",
    "\n",
    "2.) Even though the number of transactions is higher in Safari compared to Firefox, the amount of mean reenue  is higher for Firefox in comparison to Safari \n",
    "\n",
    "3.)"
   ]
  },
  {
   "cell_type": "code",
   "execution_count": 19,
   "metadata": {},
   "outputs": [
    {
     "name": "stdout",
     "output_type": "stream",
     "text": [
      "This is the format of your plot grid:\n",
      "[ (1,1) x1,y1 ]  [ (1,2) x2,y2 ]  [ (1,3) x3,y3 ]\n",
      "[ (2,1) x4,y4 ]  [ (2,2) x5,y5 ]  [ (2,3) x6,y6 ]\n",
      "[ (3,1) x7,y7 ]  [ (3,2) x8,y8 ]  [ (3,3) x9,y9 ]\n",
      "\n"
     ]
    },
    {
     "data": {
      "application/vnd.plotly.v1+json": {
       "config": {
        "linkText": "Export to plot.ly",
        "plotlyServerURL": "https://plot.ly",
        "showLink": false
       },
       "data": [
        {
         "marker": {
          "color": "rgba(58, 71, 80, 0.6)"
         },
         "orientation": "h",
         "showlegend": false,
         "type": "bar",
         "uid": "a9cba4b9-d7ab-40a4-9a90-1a5da73c3c0a",
         "x": [
          33,
          478,
          531,
          6250,
          6781,
          15927
         ],
         "xaxis": "x",
         "y": [
          "(not set)",
          "Oceania",
          "Africa",
          "Asia",
          "Europe",
          "Americas"
         ],
         "yaxis": "y"
        },
        {
         "marker": {
          "color": "rgba(58, 71, 80, 0.6)"
         },
         "orientation": "h",
         "showlegend": false,
         "type": "bar",
         "uid": "9d2abf2f-56e4-454d-9467-45afed1e63b7",
         "x": [
          0,
          0,
          0,
          2,
          2,
          317
         ],
         "xaxis": "x2",
         "y": [
          "(not set)",
          "Oceania",
          "Africa",
          "Asia",
          "Europe",
          "Americas"
         ],
         "yaxis": "y2"
        },
        {
         "marker": {
          "color": "rgba(58, 71, 80, 0.6)"
         },
         "orientation": "h",
         "showlegend": false,
         "type": "bar",
         "uid": "e0a4861e-d36c-4c7d-86f8-2b0c8f6e8dff",
         "x": [
          null,
          null,
          null,
          150980000,
          60120000,
          117997917.98107256
         ],
         "xaxis": "x3",
         "y": [
          "(not set)",
          "Oceania",
          "Africa",
          "Asia",
          "Europe",
          "Americas"
         ],
         "yaxis": "y3"
        },
        {
         "marker": {
          "color": "orange"
         },
         "orientation": "h",
         "showlegend": false,
         "type": "bar",
         "uid": "9e91f882-4588-444b-9068-853a13227746",
         "x": [
          1,
          2,
          18,
          30,
          33,
          76,
          97,
          98,
          106,
          212,
          475,
          489,
          1053,
          1201,
          1215,
          1409,
          1519,
          1687,
          1961,
          1993,
          2178,
          14147
         ],
         "xaxis": "x4",
         "y": [
          "Melanesia",
          "Micronesian Region",
          "Middle Africa",
          "Central Asia",
          "(not set)",
          "Caribbean",
          "Southern Africa",
          "Eastern Africa",
          "Western Africa",
          "Northern Africa",
          "Australasia",
          "Central America",
          "Western Asia",
          "Southern Europe",
          "South America",
          "Eastern Europe",
          "Southeast Asia",
          "Eastern Asia",
          "Southern Asia",
          "Northern Europe",
          "Western Europe",
          "Northern America"
         ],
         "yaxis": "y4"
        },
        {
         "marker": {
          "color": "orange"
         },
         "orientation": "h",
         "showlegend": false,
         "type": "bar",
         "uid": "950103c3-f3df-41f4-8bec-408fe92bd76a",
         "x": [
          0,
          0,
          0,
          0,
          0,
          1,
          0,
          0,
          0,
          0,
          0,
          0,
          0,
          0,
          1,
          1,
          1,
          1,
          0,
          0,
          1,
          315
         ],
         "xaxis": "x5",
         "y": [
          "Melanesia",
          "Micronesian Region",
          "Middle Africa",
          "Central Asia",
          "(not set)",
          "Caribbean",
          "Southern Africa",
          "Eastern Africa",
          "Western Africa",
          "Northern Africa",
          "Australasia",
          "Central America",
          "Western Asia",
          "Southern Europe",
          "South America",
          "Eastern Europe",
          "Southeast Asia",
          "Eastern Asia",
          "Southern Asia",
          "Northern Europe",
          "Western Europe",
          "Northern America"
         ],
         "yaxis": "y5"
        },
        {
         "marker": {
          "color": "orange"
         },
         "orientation": "h",
         "showlegend": false,
         "type": "bar",
         "uid": "4db976f9-b831-4240-b508-3bafb06ace9c",
         "x": [
          null,
          null,
          null,
          null,
          null,
          19990000,
          null,
          null,
          null,
          null,
          null,
          null,
          null,
          null,
          227000000,
          25750000,
          105540000,
          196420000,
          null,
          null,
          94490000,
          117963015.87301587
         ],
         "xaxis": "x6",
         "y": [
          "Melanesia",
          "Micronesian Region",
          "Middle Africa",
          "Central Asia",
          "(not set)",
          "Caribbean",
          "Southern Africa",
          "Eastern Africa",
          "Western Africa",
          "Northern Africa",
          "Australasia",
          "Central America",
          "Western Asia",
          "Southern Europe",
          "South America",
          "Eastern Europe",
          "Southeast Asia",
          "Eastern Asia",
          "Southern Asia",
          "Northern Europe",
          "Western Europe",
          "Northern America"
         ],
         "yaxis": "y6"
        },
        {
         "marker": {
          "color": "blue"
         },
         "orientation": "h",
         "showlegend": false,
         "type": "bar",
         "uid": "2aa89daa-ea62-417a-9ac5-683a9a13db99",
         "x": [
          208,
          243,
          298,
          318,
          334,
          456,
          516,
          1018,
          4377,
          8963
         ],
         "xaxis": "x7",
         "y": [
          "cox.net",
          "virginm.net",
          "ttnet.com.tr",
          "hinet.net",
          "comcastbusiness.net",
          "verizon.net",
          "rr.com",
          "comcast.net",
          "unknown.unknown",
          "(not set)"
         ],
         "yaxis": "y7"
        },
        {
         "marker": {
          "color": "blue"
         },
         "orientation": "h",
         "showlegend": false,
         "type": "bar",
         "uid": "ef3cbdc1-9e0c-490b-aacf-fe809e9d2497",
         "x": [
          8,
          0,
          0,
          1,
          6,
          9,
          3,
          22,
          12,
          203
         ],
         "xaxis": "x8",
         "y": [
          "cox.net",
          "virginm.net",
          "ttnet.com.tr",
          "hinet.net",
          "comcastbusiness.net",
          "verizon.net",
          "rr.com",
          "comcast.net",
          "unknown.unknown",
          "(not set)"
         ],
         "yaxis": "y8"
        },
        {
         "marker": {
          "color": "blue"
         },
         "orientation": "h",
         "showlegend": false,
         "type": "bar",
         "uid": "0320047b-e0ed-4135-a955-51313bdf4e17",
         "x": [
          127131250,
          null,
          null,
          196420000,
          30688333.333333332,
          76461111.1111111,
          33913333.333333336,
          68813181.81818181,
          139912500,
          122866650.24630542
         ],
         "xaxis": "x9",
         "y": [
          "cox.net",
          "virginm.net",
          "ttnet.com.tr",
          "hinet.net",
          "comcastbusiness.net",
          "verizon.net",
          "rr.com",
          "comcast.net",
          "unknown.unknown",
          "(not set)"
         ],
         "yaxis": "y9"
        }
       ],
       "layout": {
        "annotations": [
         {
          "font": {
           "size": 16
          },
          "showarrow": false,
          "text": "Continent - Count",
          "x": 0.11666666666666665,
          "xanchor": "center",
          "xref": "paper",
          "y": 1,
          "yanchor": "bottom",
          "yref": "paper"
         },
         {
          "font": {
           "size": 16
          },
          "showarrow": false,
          "text": "Continent - Non-zero Revenue Count",
          "x": 0.49999999999999994,
          "xanchor": "center",
          "xref": "paper",
          "y": 1,
          "yanchor": "bottom",
          "yref": "paper"
         },
         {
          "font": {
           "size": 16
          },
          "showarrow": false,
          "text": "Continent - Mean Revenue",
          "x": 0.8833333333333333,
          "xanchor": "center",
          "xref": "paper",
          "y": 1,
          "yanchor": "bottom",
          "yref": "paper"
         },
         {
          "font": {
           "size": 16
          },
          "showarrow": false,
          "text": "Sub Continent - Count",
          "x": 0.11666666666666665,
          "xanchor": "center",
          "xref": "paper",
          "y": 0.6399999999999999,
          "yanchor": "bottom",
          "yref": "paper"
         },
         {
          "font": {
           "size": 16
          },
          "showarrow": false,
          "text": "Sub Continent - Non-zero Revenue Count",
          "x": 0.49999999999999994,
          "xanchor": "center",
          "xref": "paper",
          "y": 0.6399999999999999,
          "yanchor": "bottom",
          "yref": "paper"
         },
         {
          "font": {
           "size": 16
          },
          "showarrow": false,
          "text": "Sub Continent - Mean Revenue",
          "x": 0.8833333333333333,
          "xanchor": "center",
          "xref": "paper",
          "y": 0.6399999999999999,
          "yanchor": "bottom",
          "yref": "paper"
         },
         {
          "font": {
           "size": 16
          },
          "showarrow": false,
          "text": "Network Domain - Count",
          "x": 0.11666666666666665,
          "xanchor": "center",
          "xref": "paper",
          "y": 0.27999999999999997,
          "yanchor": "bottom",
          "yref": "paper"
         },
         {
          "font": {
           "size": 16
          },
          "showarrow": false,
          "text": "Network Domain - Non-zero Revenue Count",
          "x": 0.49999999999999994,
          "xanchor": "center",
          "xref": "paper",
          "y": 0.27999999999999997,
          "yanchor": "bottom",
          "yref": "paper"
         },
         {
          "font": {
           "size": 16
          },
          "showarrow": false,
          "text": "Network Domain - Mean Revenue",
          "x": 0.8833333333333333,
          "xanchor": "center",
          "xref": "paper",
          "y": 0.27999999999999997,
          "yanchor": "bottom",
          "yref": "paper"
         }
        ],
        "height": 1500,
        "paper_bgcolor": "rgb(233,233,233)",
        "title": {
         "text": "Geography Plots"
        },
        "width": 1200,
        "xaxis": {
         "anchor": "y",
         "domain": [
          0,
          0.2333333333333333
         ]
        },
        "xaxis2": {
         "anchor": "y2",
         "domain": [
          0.3833333333333333,
          0.6166666666666666
         ]
        },
        "xaxis3": {
         "anchor": "y3",
         "domain": [
          0.7666666666666666,
          0.9999999999999999
         ]
        },
        "xaxis4": {
         "anchor": "y4",
         "domain": [
          0,
          0.2333333333333333
         ]
        },
        "xaxis5": {
         "anchor": "y5",
         "domain": [
          0.3833333333333333,
          0.6166666666666666
         ]
        },
        "xaxis6": {
         "anchor": "y6",
         "domain": [
          0.7666666666666666,
          0.9999999999999999
         ]
        },
        "xaxis7": {
         "anchor": "y7",
         "domain": [
          0,
          0.2333333333333333
         ]
        },
        "xaxis8": {
         "anchor": "y8",
         "domain": [
          0.3833333333333333,
          0.6166666666666666
         ]
        },
        "xaxis9": {
         "anchor": "y9",
         "domain": [
          0.7666666666666666,
          0.9999999999999999
         ]
        },
        "yaxis": {
         "anchor": "x",
         "domain": [
          0.72,
          1
         ]
        },
        "yaxis2": {
         "anchor": "x2",
         "domain": [
          0.72,
          1
         ]
        },
        "yaxis3": {
         "anchor": "x3",
         "domain": [
          0.72,
          1
         ]
        },
        "yaxis4": {
         "anchor": "x4",
         "domain": [
          0.36,
          0.6399999999999999
         ]
        },
        "yaxis5": {
         "anchor": "x5",
         "domain": [
          0.36,
          0.6399999999999999
         ]
        },
        "yaxis6": {
         "anchor": "x6",
         "domain": [
          0.36,
          0.6399999999999999
         ]
        },
        "yaxis7": {
         "anchor": "x7",
         "domain": [
          0,
          0.27999999999999997
         ]
        },
        "yaxis8": {
         "anchor": "x8",
         "domain": [
          0,
          0.27999999999999997
         ]
        },
        "yaxis9": {
         "anchor": "x9",
         "domain": [
          0,
          0.27999999999999997
         ]
        }
       }
      },
      "text/html": [
       "<div>\n",
       "        \n",
       "        \n",
       "            <div id=\"8eccedba-4767-4608-90e8-179f76dbe374\" class=\"plotly-graph-div\" style=\"height:1500px; width:1200px;\"></div>\n",
       "            <script type=\"text/javascript\">\n",
       "                require([\"plotly\"], function(Plotly) {\n",
       "                    window.PLOTLYENV=window.PLOTLYENV || {};\n",
       "                    window.PLOTLYENV.BASE_URL='https://plot.ly';\n",
       "                    \n",
       "                if (document.getElementById(\"8eccedba-4767-4608-90e8-179f76dbe374\")) {\n",
       "                    Plotly.newPlot(\n",
       "                        '8eccedba-4767-4608-90e8-179f76dbe374',\n",
       "                        [{\"marker\": {\"color\": \"rgba(58, 71, 80, 0.6)\"}, \"orientation\": \"h\", \"showlegend\": false, \"type\": \"bar\", \"uid\": \"a9cba4b9-d7ab-40a4-9a90-1a5da73c3c0a\", \"x\": [33, 478, 531, 6250, 6781, 15927], \"xaxis\": \"x\", \"y\": [\"(not set)\", \"Oceania\", \"Africa\", \"Asia\", \"Europe\", \"Americas\"], \"yaxis\": \"y\"}, {\"marker\": {\"color\": \"rgba(58, 71, 80, 0.6)\"}, \"orientation\": \"h\", \"showlegend\": false, \"type\": \"bar\", \"uid\": \"9d2abf2f-56e4-454d-9467-45afed1e63b7\", \"x\": [0, 0, 0, 2, 2, 317], \"xaxis\": \"x2\", \"y\": [\"(not set)\", \"Oceania\", \"Africa\", \"Asia\", \"Europe\", \"Americas\"], \"yaxis\": \"y2\"}, {\"marker\": {\"color\": \"rgba(58, 71, 80, 0.6)\"}, \"orientation\": \"h\", \"showlegend\": false, \"type\": \"bar\", \"uid\": \"e0a4861e-d36c-4c7d-86f8-2b0c8f6e8dff\", \"x\": [null, null, null, 150980000.0, 60120000.0, 117997917.98107256], \"xaxis\": \"x3\", \"y\": [\"(not set)\", \"Oceania\", \"Africa\", \"Asia\", \"Europe\", \"Americas\"], \"yaxis\": \"y3\"}, {\"marker\": {\"color\": \"orange\"}, \"orientation\": \"h\", \"showlegend\": false, \"type\": \"bar\", \"uid\": \"9e91f882-4588-444b-9068-853a13227746\", \"x\": [1, 2, 18, 30, 33, 76, 97, 98, 106, 212, 475, 489, 1053, 1201, 1215, 1409, 1519, 1687, 1961, 1993, 2178, 14147], \"xaxis\": \"x4\", \"y\": [\"Melanesia\", \"Micronesian Region\", \"Middle Africa\", \"Central Asia\", \"(not set)\", \"Caribbean\", \"Southern Africa\", \"Eastern Africa\", \"Western Africa\", \"Northern Africa\", \"Australasia\", \"Central America\", \"Western Asia\", \"Southern Europe\", \"South America\", \"Eastern Europe\", \"Southeast Asia\", \"Eastern Asia\", \"Southern Asia\", \"Northern Europe\", \"Western Europe\", \"Northern America\"], \"yaxis\": \"y4\"}, {\"marker\": {\"color\": \"orange\"}, \"orientation\": \"h\", \"showlegend\": false, \"type\": \"bar\", \"uid\": \"950103c3-f3df-41f4-8bec-408fe92bd76a\", \"x\": [0, 0, 0, 0, 0, 1, 0, 0, 0, 0, 0, 0, 0, 0, 1, 1, 1, 1, 0, 0, 1, 315], \"xaxis\": \"x5\", \"y\": [\"Melanesia\", \"Micronesian Region\", \"Middle Africa\", \"Central Asia\", \"(not set)\", \"Caribbean\", \"Southern Africa\", \"Eastern Africa\", \"Western Africa\", \"Northern Africa\", \"Australasia\", \"Central America\", \"Western Asia\", \"Southern Europe\", \"South America\", \"Eastern Europe\", \"Southeast Asia\", \"Eastern Asia\", \"Southern Asia\", \"Northern Europe\", \"Western Europe\", \"Northern America\"], \"yaxis\": \"y5\"}, {\"marker\": {\"color\": \"orange\"}, \"orientation\": \"h\", \"showlegend\": false, \"type\": \"bar\", \"uid\": \"4db976f9-b831-4240-b508-3bafb06ace9c\", \"x\": [null, null, null, null, null, 19990000.0, null, null, null, null, null, null, null, null, 227000000.0, 25750000.0, 105540000.0, 196420000.0, null, null, 94490000.0, 117963015.87301587], \"xaxis\": \"x6\", \"y\": [\"Melanesia\", \"Micronesian Region\", \"Middle Africa\", \"Central Asia\", \"(not set)\", \"Caribbean\", \"Southern Africa\", \"Eastern Africa\", \"Western Africa\", \"Northern Africa\", \"Australasia\", \"Central America\", \"Western Asia\", \"Southern Europe\", \"South America\", \"Eastern Europe\", \"Southeast Asia\", \"Eastern Asia\", \"Southern Asia\", \"Northern Europe\", \"Western Europe\", \"Northern America\"], \"yaxis\": \"y6\"}, {\"marker\": {\"color\": \"blue\"}, \"orientation\": \"h\", \"showlegend\": false, \"type\": \"bar\", \"uid\": \"2aa89daa-ea62-417a-9ac5-683a9a13db99\", \"x\": [208, 243, 298, 318, 334, 456, 516, 1018, 4377, 8963], \"xaxis\": \"x7\", \"y\": [\"cox.net\", \"virginm.net\", \"ttnet.com.tr\", \"hinet.net\", \"comcastbusiness.net\", \"verizon.net\", \"rr.com\", \"comcast.net\", \"unknown.unknown\", \"(not set)\"], \"yaxis\": \"y7\"}, {\"marker\": {\"color\": \"blue\"}, \"orientation\": \"h\", \"showlegend\": false, \"type\": \"bar\", \"uid\": \"ef3cbdc1-9e0c-490b-aacf-fe809e9d2497\", \"x\": [8, 0, 0, 1, 6, 9, 3, 22, 12, 203], \"xaxis\": \"x8\", \"y\": [\"cox.net\", \"virginm.net\", \"ttnet.com.tr\", \"hinet.net\", \"comcastbusiness.net\", \"verizon.net\", \"rr.com\", \"comcast.net\", \"unknown.unknown\", \"(not set)\"], \"yaxis\": \"y8\"}, {\"marker\": {\"color\": \"blue\"}, \"orientation\": \"h\", \"showlegend\": false, \"type\": \"bar\", \"uid\": \"0320047b-e0ed-4135-a955-51313bdf4e17\", \"x\": [127131250.0, null, null, 196420000.0, 30688333.333333332, 76461111.1111111, 33913333.333333336, 68813181.81818181, 139912500.0, 122866650.24630542], \"xaxis\": \"x9\", \"y\": [\"cox.net\", \"virginm.net\", \"ttnet.com.tr\", \"hinet.net\", \"comcastbusiness.net\", \"verizon.net\", \"rr.com\", \"comcast.net\", \"unknown.unknown\", \"(not set)\"], \"yaxis\": \"y9\"}],\n",
       "                        {\"annotations\": [{\"font\": {\"size\": 16}, \"showarrow\": false, \"text\": \"Continent - Count\", \"x\": 0.11666666666666665, \"xanchor\": \"center\", \"xref\": \"paper\", \"y\": 1.0, \"yanchor\": \"bottom\", \"yref\": \"paper\"}, {\"font\": {\"size\": 16}, \"showarrow\": false, \"text\": \"Continent - Non-zero Revenue Count\", \"x\": 0.49999999999999994, \"xanchor\": \"center\", \"xref\": \"paper\", \"y\": 1.0, \"yanchor\": \"bottom\", \"yref\": \"paper\"}, {\"font\": {\"size\": 16}, \"showarrow\": false, \"text\": \"Continent - Mean Revenue\", \"x\": 0.8833333333333333, \"xanchor\": \"center\", \"xref\": \"paper\", \"y\": 1.0, \"yanchor\": \"bottom\", \"yref\": \"paper\"}, {\"font\": {\"size\": 16}, \"showarrow\": false, \"text\": \"Sub Continent - Count\", \"x\": 0.11666666666666665, \"xanchor\": \"center\", \"xref\": \"paper\", \"y\": 0.6399999999999999, \"yanchor\": \"bottom\", \"yref\": \"paper\"}, {\"font\": {\"size\": 16}, \"showarrow\": false, \"text\": \"Sub Continent - Non-zero Revenue Count\", \"x\": 0.49999999999999994, \"xanchor\": \"center\", \"xref\": \"paper\", \"y\": 0.6399999999999999, \"yanchor\": \"bottom\", \"yref\": \"paper\"}, {\"font\": {\"size\": 16}, \"showarrow\": false, \"text\": \"Sub Continent - Mean Revenue\", \"x\": 0.8833333333333333, \"xanchor\": \"center\", \"xref\": \"paper\", \"y\": 0.6399999999999999, \"yanchor\": \"bottom\", \"yref\": \"paper\"}, {\"font\": {\"size\": 16}, \"showarrow\": false, \"text\": \"Network Domain - Count\", \"x\": 0.11666666666666665, \"xanchor\": \"center\", \"xref\": \"paper\", \"y\": 0.27999999999999997, \"yanchor\": \"bottom\", \"yref\": \"paper\"}, {\"font\": {\"size\": 16}, \"showarrow\": false, \"text\": \"Network Domain - Non-zero Revenue Count\", \"x\": 0.49999999999999994, \"xanchor\": \"center\", \"xref\": \"paper\", \"y\": 0.27999999999999997, \"yanchor\": \"bottom\", \"yref\": \"paper\"}, {\"font\": {\"size\": 16}, \"showarrow\": false, \"text\": \"Network Domain - Mean Revenue\", \"x\": 0.8833333333333333, \"xanchor\": \"center\", \"xref\": \"paper\", \"y\": 0.27999999999999997, \"yanchor\": \"bottom\", \"yref\": \"paper\"}], \"height\": 1500, \"paper_bgcolor\": \"rgb(233,233,233)\", \"title\": {\"text\": \"Geography Plots\"}, \"width\": 1200, \"xaxis\": {\"anchor\": \"y\", \"domain\": [0.0, 0.2333333333333333]}, \"xaxis2\": {\"anchor\": \"y2\", \"domain\": [0.3833333333333333, 0.6166666666666666]}, \"xaxis3\": {\"anchor\": \"y3\", \"domain\": [0.7666666666666666, 0.9999999999999999]}, \"xaxis4\": {\"anchor\": \"y4\", \"domain\": [0.0, 0.2333333333333333]}, \"xaxis5\": {\"anchor\": \"y5\", \"domain\": [0.3833333333333333, 0.6166666666666666]}, \"xaxis6\": {\"anchor\": \"y6\", \"domain\": [0.7666666666666666, 0.9999999999999999]}, \"xaxis7\": {\"anchor\": \"y7\", \"domain\": [0.0, 0.2333333333333333]}, \"xaxis8\": {\"anchor\": \"y8\", \"domain\": [0.3833333333333333, 0.6166666666666666]}, \"xaxis9\": {\"anchor\": \"y9\", \"domain\": [0.7666666666666666, 0.9999999999999999]}, \"yaxis\": {\"anchor\": \"x\", \"domain\": [0.72, 1.0]}, \"yaxis2\": {\"anchor\": \"x2\", \"domain\": [0.72, 1.0]}, \"yaxis3\": {\"anchor\": \"x3\", \"domain\": [0.72, 1.0]}, \"yaxis4\": {\"anchor\": \"x4\", \"domain\": [0.36, 0.6399999999999999]}, \"yaxis5\": {\"anchor\": \"x5\", \"domain\": [0.36, 0.6399999999999999]}, \"yaxis6\": {\"anchor\": \"x6\", \"domain\": [0.36, 0.6399999999999999]}, \"yaxis7\": {\"anchor\": \"x7\", \"domain\": [0.0, 0.27999999999999997]}, \"yaxis8\": {\"anchor\": \"x8\", \"domain\": [0.0, 0.27999999999999997]}, \"yaxis9\": {\"anchor\": \"x9\", \"domain\": [0.0, 0.27999999999999997]}},\n",
       "                        {\"showLink\": false, \"linkText\": \"Export to plot.ly\", \"plotlyServerURL\": \"https://plot.ly\", \"responsive\": true}\n",
       "                    ).then(function(){\n",
       "                            \n",
       "var gd = document.getElementById('8eccedba-4767-4608-90e8-179f76dbe374');\n",
       "var x = new MutationObserver(function (mutations, observer) {{\n",
       "        var display = window.getComputedStyle(gd).display;\n",
       "        if (!display || display === 'none') {{\n",
       "            console.log([gd, 'removed!']);\n",
       "            Plotly.purge(gd);\n",
       "            observer.disconnect();\n",
       "        }}\n",
       "}});\n",
       "\n",
       "// Listen for the removal of the full notebook cells\n",
       "var notebookContainer = gd.closest('#notebook-container');\n",
       "if (notebookContainer) {{\n",
       "    x.observe(notebookContainer, {childList: true});\n",
       "}}\n",
       "\n",
       "// Listen for the clearing of the current output cell\n",
       "var outputEl = gd.closest('.output');\n",
       "if (outputEl) {{\n",
       "    x.observe(outputEl, {childList: true});\n",
       "}}\n",
       "\n",
       "                        })\n",
       "                };\n",
       "                });\n",
       "            </script>\n",
       "        </div>"
      ]
     },
     "metadata": {},
     "output_type": "display_data"
    }
   ],
   "source": [
    "# Continent\n",
    "cnt_srs = train_df.groupby('geoNetwork.continent')['totals.transactionRevenue'].agg(['size', 'count', 'mean'])\n",
    "cnt_srs.columns = [\"count\", \"count of non-zero revenue\", \"mean\"]\n",
    "cnt_srs = cnt_srs.sort_values(by=\"count\", ascending=False)\n",
    "trace1 = horizontal_bar_chart(cnt_srs[\"count\"].head(10), 'rgba(58, 71, 80, 0.6)')\n",
    "trace2 = horizontal_bar_chart(cnt_srs[\"count of non-zero revenue\"].head(10), 'rgba(58, 71, 80, 0.6)')\n",
    "trace3 = horizontal_bar_chart(cnt_srs[\"mean\"].head(10), 'rgba(58, 71, 80, 0.6)')\n",
    "\n",
    "# Sub-continent\n",
    "cnt_srs = train_df.groupby('geoNetwork.subContinent')['totals.transactionRevenue'].agg(['size', 'count', 'mean'])\n",
    "cnt_srs.columns = [\"count\", \"count of non-zero revenue\", \"mean\"]\n",
    "cnt_srs = cnt_srs.sort_values(by=\"count\", ascending=False)\n",
    "trace4 = horizontal_bar_chart(cnt_srs[\"count\"], 'orange')\n",
    "trace5 = horizontal_bar_chart(cnt_srs[\"count of non-zero revenue\"], 'orange')\n",
    "trace6 = horizontal_bar_chart(cnt_srs[\"mean\"], 'orange')\n",
    "\n",
    "# Network domain\n",
    "cnt_srs = train_df.groupby('geoNetwork.networkDomain')['totals.transactionRevenue'].agg(['size', 'count', 'mean'])\n",
    "cnt_srs.columns = [\"count\", \"count of non-zero revenue\", \"mean\"]\n",
    "cnt_srs = cnt_srs.sort_values(by=\"count\", ascending=False)\n",
    "trace7 = horizontal_bar_chart(cnt_srs[\"count\"].head(10), 'blue')\n",
    "trace8 = horizontal_bar_chart(cnt_srs[\"count of non-zero revenue\"].head(10), 'blue')\n",
    "trace9 = horizontal_bar_chart(cnt_srs[\"mean\"].head(10), 'blue')\n",
    "\n",
    "# Creating two subplots\n",
    "fig = tools.make_subplots(rows=3, cols=3, vertical_spacing=0.08, horizontal_spacing=0.15, \n",
    "                          subplot_titles=[\"Continent - Count\", \"Continent - Non-zero Revenue Count\", \"Continent - Mean Revenue\",\n",
    "                                          \"Sub Continent - Count\",  \"Sub Continent - Non-zero Revenue Count\", \"Sub Continent - Mean Revenue\",\n",
    "                                          \"Network Domain - Count\", \"Network Domain - Non-zero Revenue Count\", \"Network Domain - Mean Revenue\"])\n",
    "\n",
    "fig.append_trace(trace1, 1, 1)\n",
    "fig.append_trace(trace2, 1, 2)\n",
    "fig.append_trace(trace3, 1, 3)\n",
    "fig.append_trace(trace4, 2, 1)\n",
    "fig.append_trace(trace5, 2, 2)\n",
    "fig.append_trace(trace6, 2, 3)\n",
    "fig.append_trace(trace7, 3, 1)\n",
    "fig.append_trace(trace8, 3, 2)\n",
    "fig.append_trace(trace9, 3, 3)\n",
    "\n",
    "fig['layout'].update(height=1500, width=1200, paper_bgcolor='rgb(233,233,233)', title=\"Geography Plots\")\n",
    "py.iplot(fig, filename='geo-plots')"
   ]
  },
  {
   "cell_type": "code",
   "execution_count": null,
   "metadata": {},
   "outputs": [],
   "source": [
    "import datetime\n",
    "\n",
    "def scatter_plot(cnt_srs, color):\n",
    "    trace = go.Scatter(\n",
    "        x=cnt_srs.index[::-1],\n",
    "        y=cnt_srs.values[::-1],\n",
    "        showlegend=False,\n",
    "        marker=dict(\n",
    "            color=color,\n",
    "        ),\n",
    "    )\n",
    "    return trace\n",
    "\n",
    "train_df['date'] = train_df['date'].apply(lambda x: datetime.date(int(str(x)[:4]), int(str(x)[4:6]), int(str(x)[6:])))\n",
    "cnt_srs = train_df.groupby('date')['totals.transactionRevenue'].agg(['size', 'count'])\n",
    "cnt_srs.columns = [\"count\", \"count of non-zero revenue\"]\n",
    "cnt_srs = cnt_srs.sort_index()\n",
    "#cnt_srs.index = cnt_srs.index.astype('str')\n",
    "trace1 = scatter_plot(cnt_srs[\"count\"], 'red')\n",
    "trace2 = scatter_plot(cnt_srs[\"count of non-zero revenue\"], 'blue')\n",
    "\n",
    "fig = tools.make_subplots(rows=2, cols=1, vertical_spacing=0.08,\n",
    "                          subplot_titles=[\"Date - Count\", \"Date - Non-zero Revenue count\"])\n",
    "fig.append_trace(trace1, 1, 1)\n",
    "fig.append_trace(trace2, 2, 1)\n",
    "fig['layout'].update(height=800, width=800, paper_bgcolor='rgb(233,233,233)', title=\"Date Plots\")\n",
    "py.iplot(fig, filename='date-plots')"
   ]
  },
  {
   "cell_type": "code",
   "execution_count": 20,
   "metadata": {},
   "outputs": [
    {
     "name": "stdout",
     "output_type": "stream",
     "text": [
      "This is the format of your plot grid:\n",
      "[ (1,1) x1,y1 ]  [ (1,2) x2,y2 ]  [ (1,3) x3,y3 ]\n",
      "[ (2,1) x4,y4 ]  [ (2,2) x5,y5 ]  [ (2,3) x6,y6 ]\n",
      "\n"
     ]
    },
    {
     "data": {
      "application/vnd.plotly.v1+json": {
       "config": {
        "linkText": "Export to plot.ly",
        "plotlyServerURL": "https://plot.ly",
        "showLink": false
       },
       "data": [
        {
         "marker": {
          "color": "green"
         },
         "orientation": "h",
         "showlegend": false,
         "type": "bar",
         "uid": "df122e30-479a-4f0e-b95d-2512790d47a4",
         "x": [
          73,
          79,
          139,
          172,
          175,
          612,
          649,
          4666,
          9337,
          13341
         ],
         "xaxis": "x",
         "y": [
          "qiita.com",
          "baidu",
          "dfa",
          "google.com",
          "sites.google.com",
          "Partners",
          "analytics.google.com",
          "youtube.com",
          "google",
          "(direct)"
         ],
         "yaxis": "y"
        },
        {
         "marker": {
          "color": "green"
         },
         "orientation": "h",
         "showlegend": false,
         "type": "bar",
         "uid": "cd0f5508-5fce-4b32-80a7-ee0d91636dc7",
         "x": [
          0,
          0,
          4,
          2,
          2,
          0,
          0,
          1,
          58,
          250
         ],
         "xaxis": "x2",
         "y": [
          "qiita.com",
          "baidu",
          "dfa",
          "google.com",
          "sites.google.com",
          "Partners",
          "analytics.google.com",
          "youtube.com",
          "google",
          "(direct)"
         ],
         "yaxis": "y2"
        },
        {
         "marker": {
          "color": "green"
         },
         "orientation": "h",
         "showlegend": false,
         "type": "bar",
         "uid": "6a0f4c6d-74bf-4bda-bb4c-61d228ab2477",
         "x": [
          null,
          null,
          194155000,
          21990000,
          295845000,
          null,
          null,
          16990000,
          82717758.62068966,
          123932120
         ],
         "xaxis": "x3",
         "y": [
          "qiita.com",
          "baidu",
          "dfa",
          "google.com",
          "sites.google.com",
          "Partners",
          "analytics.google.com",
          "youtube.com",
          "google",
          "(direct)"
         ],
         "yaxis": "y3"
        },
        {
         "marker": {
          "color": "purple"
         },
         "orientation": "h",
         "showlegend": false,
         "type": "bar",
         "uid": "3afc7018-4756-4d90-91fe-77c515b699fa",
         "x": [
          172,
          612,
          982,
          6379,
          8514,
          13341
         ],
         "xaxis": "x4",
         "y": [
          "cpm",
          "affiliate",
          "cpc",
          "referral",
          "organic",
          "(none)"
         ],
         "yaxis": "y4"
        },
        {
         "marker": {
          "color": "purple"
         },
         "orientation": "h",
         "showlegend": false,
         "type": "bar",
         "uid": "5f7acbaf-0f70-4d4d-98a4-8960c6529522",
         "x": [
          4,
          0,
          9,
          9,
          49,
          250
         ],
         "xaxis": "x5",
         "y": [
          "cpm",
          "affiliate",
          "cpc",
          "referral",
          "organic",
          "(none)"
         ],
         "yaxis": "y5"
        },
        {
         "marker": {
          "color": "purple"
         },
         "orientation": "h",
         "showlegend": false,
         "type": "bar",
         "uid": "1bb13e62-8e56-4cda-9f0a-9248b86389ab",
         "x": [
          194155000,
          null,
          119290000,
          141140000,
          76000408.1632653,
          123932120
         ],
         "xaxis": "x6",
         "y": [
          "cpm",
          "affiliate",
          "cpc",
          "referral",
          "organic",
          "(none)"
         ],
         "yaxis": "y6"
        }
       ],
       "layout": {
        "annotations": [
         {
          "font": {
           "size": 16
          },
          "showarrow": false,
          "text": "Traffic Source - Count",
          "x": 0.11666666666666665,
          "xanchor": "center",
          "xref": "paper",
          "y": 1,
          "yanchor": "bottom",
          "yref": "paper"
         },
         {
          "font": {
           "size": 16
          },
          "showarrow": false,
          "text": "Traffic Source - Non-zero Revenue Count",
          "x": 0.49999999999999994,
          "xanchor": "center",
          "xref": "paper",
          "y": 1,
          "yanchor": "bottom",
          "yref": "paper"
         },
         {
          "font": {
           "size": 16
          },
          "showarrow": false,
          "text": "Traffic Source - Mean Revenue",
          "x": 0.8833333333333333,
          "xanchor": "center",
          "xref": "paper",
          "y": 1,
          "yanchor": "bottom",
          "yref": "paper"
         },
         {
          "font": {
           "size": 16
          },
          "showarrow": false,
          "text": "Traffic Source Medium - Count",
          "x": 0.11666666666666665,
          "xanchor": "center",
          "xref": "paper",
          "y": 0.46,
          "yanchor": "bottom",
          "yref": "paper"
         },
         {
          "font": {
           "size": 16
          },
          "showarrow": false,
          "text": "Traffic Source Medium - Non-zero Revenue Count",
          "x": 0.49999999999999994,
          "xanchor": "center",
          "xref": "paper",
          "y": 0.46,
          "yanchor": "bottom",
          "yref": "paper"
         },
         {
          "font": {
           "size": 16
          },
          "showarrow": false,
          "text": "Traffic Source Medium - Mean Revenue",
          "x": 0.8833333333333333,
          "xanchor": "center",
          "xref": "paper",
          "y": 0.46,
          "yanchor": "bottom",
          "yref": "paper"
         }
        ],
        "height": 1000,
        "paper_bgcolor": "rgb(233,233,233)",
        "title": {
         "text": "Traffic Source Plots"
        },
        "width": 1200,
        "xaxis": {
         "anchor": "y",
         "domain": [
          0,
          0.2333333333333333
         ]
        },
        "xaxis2": {
         "anchor": "y2",
         "domain": [
          0.3833333333333333,
          0.6166666666666666
         ]
        },
        "xaxis3": {
         "anchor": "y3",
         "domain": [
          0.7666666666666666,
          0.9999999999999999
         ]
        },
        "xaxis4": {
         "anchor": "y4",
         "domain": [
          0,
          0.2333333333333333
         ]
        },
        "xaxis5": {
         "anchor": "y5",
         "domain": [
          0.3833333333333333,
          0.6166666666666666
         ]
        },
        "xaxis6": {
         "anchor": "y6",
         "domain": [
          0.7666666666666666,
          0.9999999999999999
         ]
        },
        "yaxis": {
         "anchor": "x",
         "domain": [
          0.54,
          1
         ]
        },
        "yaxis2": {
         "anchor": "x2",
         "domain": [
          0.54,
          1
         ]
        },
        "yaxis3": {
         "anchor": "x3",
         "domain": [
          0.54,
          1
         ]
        },
        "yaxis4": {
         "anchor": "x4",
         "domain": [
          0,
          0.46
         ]
        },
        "yaxis5": {
         "anchor": "x5",
         "domain": [
          0,
          0.46
         ]
        },
        "yaxis6": {
         "anchor": "x6",
         "domain": [
          0,
          0.46
         ]
        }
       }
      },
      "text/html": [
       "<div>\n",
       "        \n",
       "        \n",
       "            <div id=\"da5434f6-0219-4b0b-afba-4ac87cc61598\" class=\"plotly-graph-div\" style=\"height:1000px; width:1200px;\"></div>\n",
       "            <script type=\"text/javascript\">\n",
       "                require([\"plotly\"], function(Plotly) {\n",
       "                    window.PLOTLYENV=window.PLOTLYENV || {};\n",
       "                    window.PLOTLYENV.BASE_URL='https://plot.ly';\n",
       "                    \n",
       "                if (document.getElementById(\"da5434f6-0219-4b0b-afba-4ac87cc61598\")) {\n",
       "                    Plotly.newPlot(\n",
       "                        'da5434f6-0219-4b0b-afba-4ac87cc61598',\n",
       "                        [{\"marker\": {\"color\": \"green\"}, \"orientation\": \"h\", \"showlegend\": false, \"type\": \"bar\", \"uid\": \"df122e30-479a-4f0e-b95d-2512790d47a4\", \"x\": [73, 79, 139, 172, 175, 612, 649, 4666, 9337, 13341], \"xaxis\": \"x\", \"y\": [\"qiita.com\", \"baidu\", \"dfa\", \"google.com\", \"sites.google.com\", \"Partners\", \"analytics.google.com\", \"youtube.com\", \"google\", \"(direct)\"], \"yaxis\": \"y\"}, {\"marker\": {\"color\": \"green\"}, \"orientation\": \"h\", \"showlegend\": false, \"type\": \"bar\", \"uid\": \"cd0f5508-5fce-4b32-80a7-ee0d91636dc7\", \"x\": [0, 0, 4, 2, 2, 0, 0, 1, 58, 250], \"xaxis\": \"x2\", \"y\": [\"qiita.com\", \"baidu\", \"dfa\", \"google.com\", \"sites.google.com\", \"Partners\", \"analytics.google.com\", \"youtube.com\", \"google\", \"(direct)\"], \"yaxis\": \"y2\"}, {\"marker\": {\"color\": \"green\"}, \"orientation\": \"h\", \"showlegend\": false, \"type\": \"bar\", \"uid\": \"6a0f4c6d-74bf-4bda-bb4c-61d228ab2477\", \"x\": [null, null, 194155000.0, 21990000.0, 295845000.0, null, null, 16990000.0, 82717758.62068966, 123932120.0], \"xaxis\": \"x3\", \"y\": [\"qiita.com\", \"baidu\", \"dfa\", \"google.com\", \"sites.google.com\", \"Partners\", \"analytics.google.com\", \"youtube.com\", \"google\", \"(direct)\"], \"yaxis\": \"y3\"}, {\"marker\": {\"color\": \"purple\"}, \"orientation\": \"h\", \"showlegend\": false, \"type\": \"bar\", \"uid\": \"3afc7018-4756-4d90-91fe-77c515b699fa\", \"x\": [172, 612, 982, 6379, 8514, 13341], \"xaxis\": \"x4\", \"y\": [\"cpm\", \"affiliate\", \"cpc\", \"referral\", \"organic\", \"(none)\"], \"yaxis\": \"y4\"}, {\"marker\": {\"color\": \"purple\"}, \"orientation\": \"h\", \"showlegend\": false, \"type\": \"bar\", \"uid\": \"5f7acbaf-0f70-4d4d-98a4-8960c6529522\", \"x\": [4, 0, 9, 9, 49, 250], \"xaxis\": \"x5\", \"y\": [\"cpm\", \"affiliate\", \"cpc\", \"referral\", \"organic\", \"(none)\"], \"yaxis\": \"y5\"}, {\"marker\": {\"color\": \"purple\"}, \"orientation\": \"h\", \"showlegend\": false, \"type\": \"bar\", \"uid\": \"1bb13e62-8e56-4cda-9f0a-9248b86389ab\", \"x\": [194155000.0, null, 119290000.0, 141140000.0, 76000408.1632653, 123932120.0], \"xaxis\": \"x6\", \"y\": [\"cpm\", \"affiliate\", \"cpc\", \"referral\", \"organic\", \"(none)\"], \"yaxis\": \"y6\"}],\n",
       "                        {\"annotations\": [{\"font\": {\"size\": 16}, \"showarrow\": false, \"text\": \"Traffic Source - Count\", \"x\": 0.11666666666666665, \"xanchor\": \"center\", \"xref\": \"paper\", \"y\": 1.0, \"yanchor\": \"bottom\", \"yref\": \"paper\"}, {\"font\": {\"size\": 16}, \"showarrow\": false, \"text\": \"Traffic Source - Non-zero Revenue Count\", \"x\": 0.49999999999999994, \"xanchor\": \"center\", \"xref\": \"paper\", \"y\": 1.0, \"yanchor\": \"bottom\", \"yref\": \"paper\"}, {\"font\": {\"size\": 16}, \"showarrow\": false, \"text\": \"Traffic Source - Mean Revenue\", \"x\": 0.8833333333333333, \"xanchor\": \"center\", \"xref\": \"paper\", \"y\": 1.0, \"yanchor\": \"bottom\", \"yref\": \"paper\"}, {\"font\": {\"size\": 16}, \"showarrow\": false, \"text\": \"Traffic Source Medium - Count\", \"x\": 0.11666666666666665, \"xanchor\": \"center\", \"xref\": \"paper\", \"y\": 0.46, \"yanchor\": \"bottom\", \"yref\": \"paper\"}, {\"font\": {\"size\": 16}, \"showarrow\": false, \"text\": \"Traffic Source Medium - Non-zero Revenue Count\", \"x\": 0.49999999999999994, \"xanchor\": \"center\", \"xref\": \"paper\", \"y\": 0.46, \"yanchor\": \"bottom\", \"yref\": \"paper\"}, {\"font\": {\"size\": 16}, \"showarrow\": false, \"text\": \"Traffic Source Medium - Mean Revenue\", \"x\": 0.8833333333333333, \"xanchor\": \"center\", \"xref\": \"paper\", \"y\": 0.46, \"yanchor\": \"bottom\", \"yref\": \"paper\"}], \"height\": 1000, \"paper_bgcolor\": \"rgb(233,233,233)\", \"title\": {\"text\": \"Traffic Source Plots\"}, \"width\": 1200, \"xaxis\": {\"anchor\": \"y\", \"domain\": [0.0, 0.2333333333333333]}, \"xaxis2\": {\"anchor\": \"y2\", \"domain\": [0.3833333333333333, 0.6166666666666666]}, \"xaxis3\": {\"anchor\": \"y3\", \"domain\": [0.7666666666666666, 0.9999999999999999]}, \"xaxis4\": {\"anchor\": \"y4\", \"domain\": [0.0, 0.2333333333333333]}, \"xaxis5\": {\"anchor\": \"y5\", \"domain\": [0.3833333333333333, 0.6166666666666666]}, \"xaxis6\": {\"anchor\": \"y6\", \"domain\": [0.7666666666666666, 0.9999999999999999]}, \"yaxis\": {\"anchor\": \"x\", \"domain\": [0.54, 1.0]}, \"yaxis2\": {\"anchor\": \"x2\", \"domain\": [0.54, 1.0]}, \"yaxis3\": {\"anchor\": \"x3\", \"domain\": [0.54, 1.0]}, \"yaxis4\": {\"anchor\": \"x4\", \"domain\": [0.0, 0.46]}, \"yaxis5\": {\"anchor\": \"x5\", \"domain\": [0.0, 0.46]}, \"yaxis6\": {\"anchor\": \"x6\", \"domain\": [0.0, 0.46]}},\n",
       "                        {\"showLink\": false, \"linkText\": \"Export to plot.ly\", \"plotlyServerURL\": \"https://plot.ly\", \"responsive\": true}\n",
       "                    ).then(function(){\n",
       "                            \n",
       "var gd = document.getElementById('da5434f6-0219-4b0b-afba-4ac87cc61598');\n",
       "var x = new MutationObserver(function (mutations, observer) {{\n",
       "        var display = window.getComputedStyle(gd).display;\n",
       "        if (!display || display === 'none') {{\n",
       "            console.log([gd, 'removed!']);\n",
       "            Plotly.purge(gd);\n",
       "            observer.disconnect();\n",
       "        }}\n",
       "}});\n",
       "\n",
       "// Listen for the removal of the full notebook cells\n",
       "var notebookContainer = gd.closest('#notebook-container');\n",
       "if (notebookContainer) {{\n",
       "    x.observe(notebookContainer, {childList: true});\n",
       "}}\n",
       "\n",
       "// Listen for the clearing of the current output cell\n",
       "var outputEl = gd.closest('.output');\n",
       "if (outputEl) {{\n",
       "    x.observe(outputEl, {childList: true});\n",
       "}}\n",
       "\n",
       "                        })\n",
       "                };\n",
       "                });\n",
       "            </script>\n",
       "        </div>"
      ]
     },
     "metadata": {},
     "output_type": "display_data"
    }
   ],
   "source": [
    "# Continent\n",
    "cnt_srs = train_df.groupby('trafficSource.source')['totals.transactionRevenue'].agg(['size', 'count', 'mean'])\n",
    "cnt_srs.columns = [\"count\", \"count of non-zero revenue\", \"mean\"]\n",
    "cnt_srs = cnt_srs.sort_values(by=\"count\", ascending=False)\n",
    "trace1 = horizontal_bar_chart(cnt_srs[\"count\"].head(10), 'green')\n",
    "trace2 = horizontal_bar_chart(cnt_srs[\"count of non-zero revenue\"].head(10), 'green')\n",
    "trace3 = horizontal_bar_chart(cnt_srs[\"mean\"].head(10), 'green')\n",
    "\n",
    "# Sub-continent\n",
    "cnt_srs = train_df.groupby('trafficSource.medium')['totals.transactionRevenue'].agg(['size', 'count', 'mean'])\n",
    "cnt_srs.columns = [\"count\", \"count of non-zero revenue\", \"mean\"]\n",
    "cnt_srs = cnt_srs.sort_values(by=\"count\", ascending=False)\n",
    "trace4 = horizontal_bar_chart(cnt_srs[\"count\"], 'purple')\n",
    "trace5 = horizontal_bar_chart(cnt_srs[\"count of non-zero revenue\"], 'purple')\n",
    "trace6 = horizontal_bar_chart(cnt_srs[\"mean\"], 'purple')\n",
    "\n",
    "# Creating two subplots\n",
    "fig = tools.make_subplots(rows=2, cols=3, vertical_spacing=0.08, horizontal_spacing=0.15, \n",
    "                          subplot_titles=[\"Traffic Source - Count\", \"Traffic Source - Non-zero Revenue Count\", \"Traffic Source - Mean Revenue\",\n",
    "                                          \"Traffic Source Medium - Count\",  \"Traffic Source Medium - Non-zero Revenue Count\", \"Traffic Source Medium - Mean Revenue\"\n",
    "                                          ])\n",
    "\n",
    "fig.append_trace(trace1, 1, 1)\n",
    "fig.append_trace(trace2, 1, 2)\n",
    "fig.append_trace(trace3, 1, 3)\n",
    "fig.append_trace(trace4, 2, 1)\n",
    "fig.append_trace(trace5, 2, 2)\n",
    "fig.append_trace(trace6, 2, 3)\n",
    "\n",
    "fig['layout'].update(height=1000, width=1200, paper_bgcolor='rgb(233,233,233)', title=\"Traffic Source Plots\")\n",
    "py.iplot(fig, filename='traffic-source-plots')"
   ]
  },
  {
   "cell_type": "code",
   "execution_count": 21,
   "metadata": {},
   "outputs": [
    {
     "name": "stdout",
     "output_type": "stream",
     "text": [
      "This is the format of your plot grid:\n",
      "[ (1,1) x1,y1 ]  [ (1,2) x2,y2 ]  [ (1,3) x3,y3 ]\n",
      "[ (2,1) x4,y4 ]  [ (2,2) x5,y5 ]  [ (2,3) x6,y6 ]\n",
      "\n"
     ]
    },
    {
     "data": {
      "application/vnd.plotly.v1+json": {
       "config": {
        "linkText": "Export to plot.ly",
        "plotlyServerURL": "https://plot.ly",
        "showLink": false
       },
       "data": [
        {
         "marker": {
          "color": "cyan"
         },
         "orientation": "h",
         "showlegend": false,
         "type": "bar",
         "uid": "1898f57e-f67c-440b-866c-75945210f6d8",
         "x": [
          3,
          3,
          3,
          3,
          3,
          3,
          3,
          4,
          4,
          5,
          6,
          6,
          7,
          7,
          8,
          8,
          8,
          8,
          10,
          13,
          13,
          13,
          13,
          14,
          16,
          19,
          20,
          24,
          25,
          27,
          27,
          28,
          32,
          36,
          46,
          48,
          55,
          58,
          61,
          72,
          73,
          90,
          105,
          144,
          150,
          163,
          203,
          207,
          277,
          304,
          386,
          511,
          604,
          746,
          914,
          1180,
          1624,
          2557,
          4064,
          14894
         ],
         "xaxis": "x",
         "y": [
          "57",
          "71",
          "53",
          "60",
          "50",
          "58",
          "65",
          "59",
          "47",
          "48",
          "56",
          "49",
          "43",
          "51",
          "44",
          "52",
          "42",
          "41",
          "46",
          "38",
          "45",
          "40",
          "39",
          "37",
          "34",
          "36",
          "35",
          "33",
          "29",
          "32",
          "31",
          "30",
          "28",
          "27",
          "26",
          "25",
          "23",
          "24",
          "22",
          "21",
          "20",
          "19",
          "18",
          "16",
          "17",
          "15",
          "13",
          "14",
          "12",
          "11",
          "10",
          "9",
          "8",
          "7",
          "6",
          "5",
          "4",
          "3",
          "2",
          "1"
         ],
         "yaxis": "y"
        },
        {
         "marker": {
          "color": "cyan"
         },
         "orientation": "h",
         "showlegend": false,
         "type": "bar",
         "uid": "d8e2a74a-93c7-43d5-9c3b-54032beeace5",
         "x": [
          0,
          0,
          1,
          1,
          1,
          3,
          0,
          2,
          2,
          3,
          1,
          0,
          5,
          2,
          3,
          2,
          2,
          2,
          0,
          3,
          4,
          5,
          3,
          3,
          1,
          5,
          4,
          7,
          8,
          4,
          8,
          4,
          12,
          13,
          13,
          6,
          8,
          9,
          12,
          7,
          11,
          7,
          11,
          17,
          15,
          14,
          11,
          11,
          10,
          12,
          12,
          2,
          2,
          1,
          0,
          0,
          0,
          0,
          0,
          0
         ],
         "xaxis": "x2",
         "y": [
          "57",
          "71",
          "53",
          "60",
          "50",
          "58",
          "65",
          "59",
          "47",
          "48",
          "56",
          "49",
          "43",
          "51",
          "44",
          "52",
          "42",
          "41",
          "46",
          "38",
          "45",
          "40",
          "39",
          "37",
          "34",
          "36",
          "35",
          "33",
          "29",
          "32",
          "31",
          "30",
          "28",
          "27",
          "26",
          "25",
          "23",
          "24",
          "22",
          "21",
          "20",
          "19",
          "18",
          "16",
          "17",
          "15",
          "13",
          "14",
          "12",
          "11",
          "10",
          "9",
          "8",
          "7",
          "6",
          "5",
          "4",
          "3",
          "2",
          "1"
         ],
         "yaxis": "y2"
        },
        {
         "marker": {
          "color": "cyan"
         },
         "orientation": "h",
         "showlegend": false,
         "type": "bar",
         "uid": "385a3d43-5c9f-4a67-ae34-f4f35744e0d0",
         "x": [
          null,
          null,
          28290000,
          37960000,
          338970000,
          186883333.33333334,
          null,
          127720000,
          64430000,
          272276666.6666667,
          25750000,
          null,
          40640000,
          50985000,
          143070000,
          26570000,
          144105000,
          254430000,
          null,
          76933333.33333333,
          81197500,
          268066000,
          111113333.33333333,
          127263333.33333333,
          305470000,
          226888000,
          26532500,
          132708571.42857143,
          136798750,
          50242500,
          74388750,
          63965000,
          105830833.33333333,
          116499230.76923077,
          88160769.23076923,
          125073333.33333333,
          108486250,
          95196666.66666667,
          95168333.33333333,
          186081428.57142857,
          62990000,
          132484285.71428572,
          90663636.36363636,
          116332941.1764706,
          64358000,
          56460714.28571428,
          64431818.18181818,
          126692727.27272727,
          139183000,
          53890833.333333336,
          110419166.66666667,
          12085000,
          46245000,
          119990000,
          null,
          null,
          null,
          null,
          null,
          null
         ],
         "xaxis": "x3",
         "y": [
          "57",
          "71",
          "53",
          "60",
          "50",
          "58",
          "65",
          "59",
          "47",
          "48",
          "56",
          "49",
          "43",
          "51",
          "44",
          "52",
          "42",
          "41",
          "46",
          "38",
          "45",
          "40",
          "39",
          "37",
          "34",
          "36",
          "35",
          "33",
          "29",
          "32",
          "31",
          "30",
          "28",
          "27",
          "26",
          "25",
          "23",
          "24",
          "22",
          "21",
          "20",
          "19",
          "18",
          "16",
          "17",
          "15",
          "13",
          "14",
          "12",
          "11",
          "10",
          "9",
          "8",
          "7",
          "6",
          "5",
          "4",
          "3",
          "2",
          "1"
         ],
         "yaxis": "y3"
        },
        {
         "marker": {
          "color": "black"
         },
         "orientation": "h",
         "showlegend": false,
         "type": "bar",
         "uid": "efc7a598-329f-4112-977b-ea017acda41c",
         "x": [
          7,
          7,
          7,
          7,
          8,
          8,
          8,
          8,
          9,
          10,
          11,
          11,
          11,
          12,
          13,
          16,
          17,
          17,
          18,
          18,
          21,
          22,
          23,
          27,
          28,
          29,
          32,
          33,
          35,
          37,
          41,
          44,
          46,
          55,
          58,
          71,
          76,
          80,
          82,
          92,
          114,
          115,
          135,
          152,
          168,
          191,
          237,
          241,
          314,
          324,
          422,
          460,
          617,
          757,
          902,
          1109,
          1469,
          2419,
          3885,
          14683
         ],
         "xaxis": "x4",
         "y": [
          "74",
          "57",
          "58",
          "66",
          "54",
          "52",
          "44",
          "49",
          "53",
          "62",
          "61",
          "45",
          "50",
          "48",
          "51",
          "43",
          "46",
          "42",
          "40",
          "47",
          "37",
          "41",
          "39",
          "38",
          "33",
          "35",
          "36",
          "34",
          "31",
          "32",
          "26",
          "28",
          "29",
          "30",
          "27",
          "25",
          "24",
          "23",
          "22",
          "21",
          "19",
          "20",
          "18",
          "17",
          "16",
          "15",
          "14",
          "13",
          "12",
          "11",
          "10",
          "9",
          "8",
          "7",
          "6",
          "5",
          "4",
          "3",
          "2",
          "1"
         ],
         "yaxis": "y4"
        },
        {
         "marker": {
          "color": "black"
         },
         "orientation": "h",
         "showlegend": false,
         "type": "bar",
         "uid": "5c5b2cef-2440-436f-b03a-7b46d939a3c5",
         "x": [
          2,
          2,
          1,
          0,
          2,
          1,
          3,
          1,
          2,
          3,
          2,
          1,
          4,
          7,
          3,
          5,
          4,
          3,
          6,
          3,
          5,
          8,
          4,
          5,
          8,
          5,
          6,
          5,
          6,
          1,
          3,
          8,
          1,
          16,
          8,
          5,
          7,
          10,
          10,
          10,
          11,
          13,
          13,
          7,
          3,
          12,
          5,
          9,
          8,
          10,
          2,
          1,
          2,
          0,
          0,
          0,
          0,
          0,
          0,
          0
         ],
         "xaxis": "x5",
         "y": [
          "74",
          "57",
          "58",
          "66",
          "54",
          "52",
          "44",
          "49",
          "53",
          "62",
          "61",
          "45",
          "50",
          "48",
          "51",
          "43",
          "46",
          "42",
          "40",
          "47",
          "37",
          "41",
          "39",
          "38",
          "33",
          "35",
          "36",
          "34",
          "31",
          "32",
          "26",
          "28",
          "29",
          "30",
          "27",
          "25",
          "24",
          "23",
          "22",
          "21",
          "19",
          "20",
          "18",
          "17",
          "16",
          "15",
          "14",
          "13",
          "12",
          "11",
          "10",
          "9",
          "8",
          "7",
          "6",
          "5",
          "4",
          "3",
          "2",
          "1"
         ],
         "yaxis": "y5"
        },
        {
         "marker": {
          "color": "black"
         },
         "orientation": "h",
         "showlegend": false,
         "type": "bar",
         "uid": "f6262a84-50bf-4dee-8904-3ff17c1682b5",
         "x": [
          29580000,
          80735000,
          45130000,
          null,
          687685000,
          227000000,
          79200000,
          210160000,
          205825000,
          78610000,
          87700000,
          20980000,
          107767500,
          162655714.2857143,
          52990000,
          77574000,
          34822500,
          383103333.3333333,
          72945000,
          19810000,
          98400000,
          143325000,
          26145000,
          238792000,
          78476250,
          108846000,
          76316666.66666667,
          73966000,
          42695000,
          137650000,
          139656666.66666666,
          50240000,
          236790000,
          96378125,
          126986250,
          120168000,
          224927142.85714287,
          84051000,
          33712000,
          91392000,
          82521818.18181819,
          84313846.15384616,
          90440769.23076923,
          104811428.57142857,
          474836666.6666667,
          77205833.33333333,
          62004000,
          33495555.555555556,
          40227500,
          93931000,
          253355000,
          15190000,
          82390000,
          null,
          null,
          null,
          null,
          null,
          null,
          null
         ],
         "xaxis": "x6",
         "y": [
          "74",
          "57",
          "58",
          "66",
          "54",
          "52",
          "44",
          "49",
          "53",
          "62",
          "61",
          "45",
          "50",
          "48",
          "51",
          "43",
          "46",
          "42",
          "40",
          "47",
          "37",
          "41",
          "39",
          "38",
          "33",
          "35",
          "36",
          "34",
          "31",
          "32",
          "26",
          "28",
          "29",
          "30",
          "27",
          "25",
          "24",
          "23",
          "22",
          "21",
          "19",
          "20",
          "18",
          "17",
          "16",
          "15",
          "14",
          "13",
          "12",
          "11",
          "10",
          "9",
          "8",
          "7",
          "6",
          "5",
          "4",
          "3",
          "2",
          "1"
         ],
         "yaxis": "y6"
        }
       ],
       "layout": {
        "annotations": [
         {
          "font": {
           "size": 16
          },
          "showarrow": false,
          "text": "Total Pageviews - Count",
          "x": 0.11666666666666665,
          "xanchor": "center",
          "xref": "paper",
          "y": 1,
          "yanchor": "bottom",
          "yref": "paper"
         },
         {
          "font": {
           "size": 16
          },
          "showarrow": false,
          "text": "Total Pageviews - Non-zero Revenue Count",
          "x": 0.49999999999999994,
          "xanchor": "center",
          "xref": "paper",
          "y": 1,
          "yanchor": "bottom",
          "yref": "paper"
         },
         {
          "font": {
           "size": 16
          },
          "showarrow": false,
          "text": "Total Pageviews - Mean Revenue",
          "x": 0.8833333333333333,
          "xanchor": "center",
          "xref": "paper",
          "y": 1,
          "yanchor": "bottom",
          "yref": "paper"
         },
         {
          "font": {
           "size": 16
          },
          "showarrow": false,
          "text": "Total Hits - Count",
          "x": 0.11666666666666665,
          "xanchor": "center",
          "xref": "paper",
          "y": 0.46,
          "yanchor": "bottom",
          "yref": "paper"
         },
         {
          "font": {
           "size": 16
          },
          "showarrow": false,
          "text": "Total Hits - Non-zero Revenue Count",
          "x": 0.49999999999999994,
          "xanchor": "center",
          "xref": "paper",
          "y": 0.46,
          "yanchor": "bottom",
          "yref": "paper"
         },
         {
          "font": {
           "size": 16
          },
          "showarrow": false,
          "text": "Total Hits - Mean Revenue",
          "x": 0.8833333333333333,
          "xanchor": "center",
          "xref": "paper",
          "y": 0.46,
          "yanchor": "bottom",
          "yref": "paper"
         }
        ],
        "height": 1200,
        "paper_bgcolor": "rgb(233,233,233)",
        "title": {
         "text": "Visitor Profile Plots"
        },
        "width": 900,
        "xaxis": {
         "anchor": "y",
         "domain": [
          0,
          0.2333333333333333
         ]
        },
        "xaxis2": {
         "anchor": "y2",
         "domain": [
          0.3833333333333333,
          0.6166666666666666
         ]
        },
        "xaxis3": {
         "anchor": "y3",
         "domain": [
          0.7666666666666666,
          0.9999999999999999
         ]
        },
        "xaxis4": {
         "anchor": "y4",
         "domain": [
          0,
          0.2333333333333333
         ]
        },
        "xaxis5": {
         "anchor": "y5",
         "domain": [
          0.3833333333333333,
          0.6166666666666666
         ]
        },
        "xaxis6": {
         "anchor": "y6",
         "domain": [
          0.7666666666666666,
          0.9999999999999999
         ]
        },
        "yaxis": {
         "anchor": "x",
         "domain": [
          0.54,
          1
         ]
        },
        "yaxis2": {
         "anchor": "x2",
         "domain": [
          0.54,
          1
         ]
        },
        "yaxis3": {
         "anchor": "x3",
         "domain": [
          0.54,
          1
         ]
        },
        "yaxis4": {
         "anchor": "x4",
         "domain": [
          0,
          0.46
         ]
        },
        "yaxis5": {
         "anchor": "x5",
         "domain": [
          0,
          0.46
         ]
        },
        "yaxis6": {
         "anchor": "x6",
         "domain": [
          0,
          0.46
         ]
        }
       }
      },
      "text/html": [
       "<div>\n",
       "        \n",
       "        \n",
       "            <div id=\"cef24830-3e74-4670-b9ed-656bb9974e57\" class=\"plotly-graph-div\" style=\"height:1200px; width:900px;\"></div>\n",
       "            <script type=\"text/javascript\">\n",
       "                require([\"plotly\"], function(Plotly) {\n",
       "                    window.PLOTLYENV=window.PLOTLYENV || {};\n",
       "                    window.PLOTLYENV.BASE_URL='https://plot.ly';\n",
       "                    \n",
       "                if (document.getElementById(\"cef24830-3e74-4670-b9ed-656bb9974e57\")) {\n",
       "                    Plotly.newPlot(\n",
       "                        'cef24830-3e74-4670-b9ed-656bb9974e57',\n",
       "                        [{\"marker\": {\"color\": \"cyan\"}, \"orientation\": \"h\", \"showlegend\": false, \"type\": \"bar\", \"uid\": \"1898f57e-f67c-440b-866c-75945210f6d8\", \"x\": [3, 3, 3, 3, 3, 3, 3, 4, 4, 5, 6, 6, 7, 7, 8, 8, 8, 8, 10, 13, 13, 13, 13, 14, 16, 19, 20, 24, 25, 27, 27, 28, 32, 36, 46, 48, 55, 58, 61, 72, 73, 90, 105, 144, 150, 163, 203, 207, 277, 304, 386, 511, 604, 746, 914, 1180, 1624, 2557, 4064, 14894], \"xaxis\": \"x\", \"y\": [\"57\", \"71\", \"53\", \"60\", \"50\", \"58\", \"65\", \"59\", \"47\", \"48\", \"56\", \"49\", \"43\", \"51\", \"44\", \"52\", \"42\", \"41\", \"46\", \"38\", \"45\", \"40\", \"39\", \"37\", \"34\", \"36\", \"35\", \"33\", \"29\", \"32\", \"31\", \"30\", \"28\", \"27\", \"26\", \"25\", \"23\", \"24\", \"22\", \"21\", \"20\", \"19\", \"18\", \"16\", \"17\", \"15\", \"13\", \"14\", \"12\", \"11\", \"10\", \"9\", \"8\", \"7\", \"6\", \"5\", \"4\", \"3\", \"2\", \"1\"], \"yaxis\": \"y\"}, {\"marker\": {\"color\": \"cyan\"}, \"orientation\": \"h\", \"showlegend\": false, \"type\": \"bar\", \"uid\": \"d8e2a74a-93c7-43d5-9c3b-54032beeace5\", \"x\": [0, 0, 1, 1, 1, 3, 0, 2, 2, 3, 1, 0, 5, 2, 3, 2, 2, 2, 0, 3, 4, 5, 3, 3, 1, 5, 4, 7, 8, 4, 8, 4, 12, 13, 13, 6, 8, 9, 12, 7, 11, 7, 11, 17, 15, 14, 11, 11, 10, 12, 12, 2, 2, 1, 0, 0, 0, 0, 0, 0], \"xaxis\": \"x2\", \"y\": [\"57\", \"71\", \"53\", \"60\", \"50\", \"58\", \"65\", \"59\", \"47\", \"48\", \"56\", \"49\", \"43\", \"51\", \"44\", \"52\", \"42\", \"41\", \"46\", \"38\", \"45\", \"40\", \"39\", \"37\", \"34\", \"36\", \"35\", \"33\", \"29\", \"32\", \"31\", \"30\", \"28\", \"27\", \"26\", \"25\", \"23\", \"24\", \"22\", \"21\", \"20\", \"19\", \"18\", \"16\", \"17\", \"15\", \"13\", \"14\", \"12\", \"11\", \"10\", \"9\", \"8\", \"7\", \"6\", \"5\", \"4\", \"3\", \"2\", \"1\"], \"yaxis\": \"y2\"}, {\"marker\": {\"color\": \"cyan\"}, \"orientation\": \"h\", \"showlegend\": false, \"type\": \"bar\", \"uid\": \"385a3d43-5c9f-4a67-ae34-f4f35744e0d0\", \"x\": [null, null, 28290000.0, 37960000.0, 338970000.0, 186883333.33333334, null, 127720000.0, 64430000.0, 272276666.6666667, 25750000.0, null, 40640000.0, 50985000.0, 143070000.0, 26570000.0, 144105000.0, 254430000.0, null, 76933333.33333333, 81197500.0, 268066000.0, 111113333.33333333, 127263333.33333333, 305470000.0, 226888000.0, 26532500.0, 132708571.42857143, 136798750.0, 50242500.0, 74388750.0, 63965000.0, 105830833.33333333, 116499230.76923077, 88160769.23076923, 125073333.33333333, 108486250.0, 95196666.66666667, 95168333.33333333, 186081428.57142857, 62990000.0, 132484285.71428572, 90663636.36363636, 116332941.1764706, 64358000.0, 56460714.28571428, 64431818.18181818, 126692727.27272727, 139183000.0, 53890833.333333336, 110419166.66666667, 12085000.0, 46245000.0, 119990000.0, null, null, null, null, null, null], \"xaxis\": \"x3\", \"y\": [\"57\", \"71\", \"53\", \"60\", \"50\", \"58\", \"65\", \"59\", \"47\", \"48\", \"56\", \"49\", \"43\", \"51\", \"44\", \"52\", \"42\", \"41\", \"46\", \"38\", \"45\", \"40\", \"39\", \"37\", \"34\", \"36\", \"35\", \"33\", \"29\", \"32\", \"31\", \"30\", \"28\", \"27\", \"26\", \"25\", \"23\", \"24\", \"22\", \"21\", \"20\", \"19\", \"18\", \"16\", \"17\", \"15\", \"13\", \"14\", \"12\", \"11\", \"10\", \"9\", \"8\", \"7\", \"6\", \"5\", \"4\", \"3\", \"2\", \"1\"], \"yaxis\": \"y3\"}, {\"marker\": {\"color\": \"black\"}, \"orientation\": \"h\", \"showlegend\": false, \"type\": \"bar\", \"uid\": \"efc7a598-329f-4112-977b-ea017acda41c\", \"x\": [7, 7, 7, 7, 8, 8, 8, 8, 9, 10, 11, 11, 11, 12, 13, 16, 17, 17, 18, 18, 21, 22, 23, 27, 28, 29, 32, 33, 35, 37, 41, 44, 46, 55, 58, 71, 76, 80, 82, 92, 114, 115, 135, 152, 168, 191, 237, 241, 314, 324, 422, 460, 617, 757, 902, 1109, 1469, 2419, 3885, 14683], \"xaxis\": \"x4\", \"y\": [\"74\", \"57\", \"58\", \"66\", \"54\", \"52\", \"44\", \"49\", \"53\", \"62\", \"61\", \"45\", \"50\", \"48\", \"51\", \"43\", \"46\", \"42\", \"40\", \"47\", \"37\", \"41\", \"39\", \"38\", \"33\", \"35\", \"36\", \"34\", \"31\", \"32\", \"26\", \"28\", \"29\", \"30\", \"27\", \"25\", \"24\", \"23\", \"22\", \"21\", \"19\", \"20\", \"18\", \"17\", \"16\", \"15\", \"14\", \"13\", \"12\", \"11\", \"10\", \"9\", \"8\", \"7\", \"6\", \"5\", \"4\", \"3\", \"2\", \"1\"], \"yaxis\": \"y4\"}, {\"marker\": {\"color\": \"black\"}, \"orientation\": \"h\", \"showlegend\": false, \"type\": \"bar\", \"uid\": \"5c5b2cef-2440-436f-b03a-7b46d939a3c5\", \"x\": [2, 2, 1, 0, 2, 1, 3, 1, 2, 3, 2, 1, 4, 7, 3, 5, 4, 3, 6, 3, 5, 8, 4, 5, 8, 5, 6, 5, 6, 1, 3, 8, 1, 16, 8, 5, 7, 10, 10, 10, 11, 13, 13, 7, 3, 12, 5, 9, 8, 10, 2, 1, 2, 0, 0, 0, 0, 0, 0, 0], \"xaxis\": \"x5\", \"y\": [\"74\", \"57\", \"58\", \"66\", \"54\", \"52\", \"44\", \"49\", \"53\", \"62\", \"61\", \"45\", \"50\", \"48\", \"51\", \"43\", \"46\", \"42\", \"40\", \"47\", \"37\", \"41\", \"39\", \"38\", \"33\", \"35\", \"36\", \"34\", \"31\", \"32\", \"26\", \"28\", \"29\", \"30\", \"27\", \"25\", \"24\", \"23\", \"22\", \"21\", \"19\", \"20\", \"18\", \"17\", \"16\", \"15\", \"14\", \"13\", \"12\", \"11\", \"10\", \"9\", \"8\", \"7\", \"6\", \"5\", \"4\", \"3\", \"2\", \"1\"], \"yaxis\": \"y5\"}, {\"marker\": {\"color\": \"black\"}, \"orientation\": \"h\", \"showlegend\": false, \"type\": \"bar\", \"uid\": \"f6262a84-50bf-4dee-8904-3ff17c1682b5\", \"x\": [29580000.0, 80735000.0, 45130000.0, null, 687685000.0, 227000000.0, 79200000.0, 210160000.0, 205825000.0, 78610000.0, 87700000.0, 20980000.0, 107767500.0, 162655714.2857143, 52990000.0, 77574000.0, 34822500.0, 383103333.3333333, 72945000.0, 19810000.0, 98400000.0, 143325000.0, 26145000.0, 238792000.0, 78476250.0, 108846000.0, 76316666.66666667, 73966000.0, 42695000.0, 137650000.0, 139656666.66666666, 50240000.0, 236790000.0, 96378125.0, 126986250.0, 120168000.0, 224927142.85714287, 84051000.0, 33712000.0, 91392000.0, 82521818.18181819, 84313846.15384616, 90440769.23076923, 104811428.57142857, 474836666.6666667, 77205833.33333333, 62004000.0, 33495555.555555556, 40227500.0, 93931000.0, 253355000.0, 15190000.0, 82390000.0, null, null, null, null, null, null, null], \"xaxis\": \"x6\", \"y\": [\"74\", \"57\", \"58\", \"66\", \"54\", \"52\", \"44\", \"49\", \"53\", \"62\", \"61\", \"45\", \"50\", \"48\", \"51\", \"43\", \"46\", \"42\", \"40\", \"47\", \"37\", \"41\", \"39\", \"38\", \"33\", \"35\", \"36\", \"34\", \"31\", \"32\", \"26\", \"28\", \"29\", \"30\", \"27\", \"25\", \"24\", \"23\", \"22\", \"21\", \"19\", \"20\", \"18\", \"17\", \"16\", \"15\", \"14\", \"13\", \"12\", \"11\", \"10\", \"9\", \"8\", \"7\", \"6\", \"5\", \"4\", \"3\", \"2\", \"1\"], \"yaxis\": \"y6\"}],\n",
       "                        {\"annotations\": [{\"font\": {\"size\": 16}, \"showarrow\": false, \"text\": \"Total Pageviews - Count\", \"x\": 0.11666666666666665, \"xanchor\": \"center\", \"xref\": \"paper\", \"y\": 1.0, \"yanchor\": \"bottom\", \"yref\": \"paper\"}, {\"font\": {\"size\": 16}, \"showarrow\": false, \"text\": \"Total Pageviews - Non-zero Revenue Count\", \"x\": 0.49999999999999994, \"xanchor\": \"center\", \"xref\": \"paper\", \"y\": 1.0, \"yanchor\": \"bottom\", \"yref\": \"paper\"}, {\"font\": {\"size\": 16}, \"showarrow\": false, \"text\": \"Total Pageviews - Mean Revenue\", \"x\": 0.8833333333333333, \"xanchor\": \"center\", \"xref\": \"paper\", \"y\": 1.0, \"yanchor\": \"bottom\", \"yref\": \"paper\"}, {\"font\": {\"size\": 16}, \"showarrow\": false, \"text\": \"Total Hits - Count\", \"x\": 0.11666666666666665, \"xanchor\": \"center\", \"xref\": \"paper\", \"y\": 0.46, \"yanchor\": \"bottom\", \"yref\": \"paper\"}, {\"font\": {\"size\": 16}, \"showarrow\": false, \"text\": \"Total Hits - Non-zero Revenue Count\", \"x\": 0.49999999999999994, \"xanchor\": \"center\", \"xref\": \"paper\", \"y\": 0.46, \"yanchor\": \"bottom\", \"yref\": \"paper\"}, {\"font\": {\"size\": 16}, \"showarrow\": false, \"text\": \"Total Hits - Mean Revenue\", \"x\": 0.8833333333333333, \"xanchor\": \"center\", \"xref\": \"paper\", \"y\": 0.46, \"yanchor\": \"bottom\", \"yref\": \"paper\"}], \"height\": 1200, \"paper_bgcolor\": \"rgb(233,233,233)\", \"title\": {\"text\": \"Visitor Profile Plots\"}, \"width\": 900, \"xaxis\": {\"anchor\": \"y\", \"domain\": [0.0, 0.2333333333333333]}, \"xaxis2\": {\"anchor\": \"y2\", \"domain\": [0.3833333333333333, 0.6166666666666666]}, \"xaxis3\": {\"anchor\": \"y3\", \"domain\": [0.7666666666666666, 0.9999999999999999]}, \"xaxis4\": {\"anchor\": \"y4\", \"domain\": [0.0, 0.2333333333333333]}, \"xaxis5\": {\"anchor\": \"y5\", \"domain\": [0.3833333333333333, 0.6166666666666666]}, \"xaxis6\": {\"anchor\": \"y6\", \"domain\": [0.7666666666666666, 0.9999999999999999]}, \"yaxis\": {\"anchor\": \"x\", \"domain\": [0.54, 1.0]}, \"yaxis2\": {\"anchor\": \"x2\", \"domain\": [0.54, 1.0]}, \"yaxis3\": {\"anchor\": \"x3\", \"domain\": [0.54, 1.0]}, \"yaxis4\": {\"anchor\": \"x4\", \"domain\": [0.0, 0.46]}, \"yaxis5\": {\"anchor\": \"x5\", \"domain\": [0.0, 0.46]}, \"yaxis6\": {\"anchor\": \"x6\", \"domain\": [0.0, 0.46]}},\n",
       "                        {\"showLink\": false, \"linkText\": \"Export to plot.ly\", \"plotlyServerURL\": \"https://plot.ly\", \"responsive\": true}\n",
       "                    ).then(function(){\n",
       "                            \n",
       "var gd = document.getElementById('cef24830-3e74-4670-b9ed-656bb9974e57');\n",
       "var x = new MutationObserver(function (mutations, observer) {{\n",
       "        var display = window.getComputedStyle(gd).display;\n",
       "        if (!display || display === 'none') {{\n",
       "            console.log([gd, 'removed!']);\n",
       "            Plotly.purge(gd);\n",
       "            observer.disconnect();\n",
       "        }}\n",
       "}});\n",
       "\n",
       "// Listen for the removal of the full notebook cells\n",
       "var notebookContainer = gd.closest('#notebook-container');\n",
       "if (notebookContainer) {{\n",
       "    x.observe(notebookContainer, {childList: true});\n",
       "}}\n",
       "\n",
       "// Listen for the clearing of the current output cell\n",
       "var outputEl = gd.closest('.output');\n",
       "if (outputEl) {{\n",
       "    x.observe(outputEl, {childList: true});\n",
       "}}\n",
       "\n",
       "                        })\n",
       "                };\n",
       "                });\n",
       "            </script>\n",
       "        </div>"
      ]
     },
     "metadata": {},
     "output_type": "display_data"
    }
   ],
   "source": [
    "# Page views\n",
    "cnt_srs = train_df.groupby('totals.pageviews')['totals.transactionRevenue'].agg(['size', 'count', 'mean'])\n",
    "cnt_srs.columns = [\"count\", \"count of non-zero revenue\", \"mean\"]\n",
    "cnt_srs = cnt_srs.sort_values(by=\"count\", ascending=False)\n",
    "trace1 = horizontal_bar_chart(cnt_srs[\"count\"].head(60), 'cyan')\n",
    "trace2 = horizontal_bar_chart(cnt_srs[\"count of non-zero revenue\"].head(60), 'cyan')\n",
    "trace5 = horizontal_bar_chart(cnt_srs[\"mean\"].head(60), 'cyan')\n",
    "\n",
    "# Hits\n",
    "cnt_srs = train_df.groupby('totals.hits')['totals.transactionRevenue'].agg(['size', 'count', 'mean'])\n",
    "cnt_srs.columns = [\"count\", \"count of non-zero revenue\", 'mean']\n",
    "cnt_srs = cnt_srs.sort_values(by=\"count\", ascending=False)\n",
    "trace3 = horizontal_bar_chart(cnt_srs[\"count\"].head(60), 'black')\n",
    "trace4 = horizontal_bar_chart(cnt_srs[\"count of non-zero revenue\"].head(60), 'black')\n",
    "trace6 = horizontal_bar_chart(cnt_srs[\"mean\"].head(60), 'black')\n",
    "\n",
    "# Creating two subplots\n",
    "fig = tools.make_subplots(rows=2, cols=3, vertical_spacing=0.08, horizontal_spacing=0.15, \n",
    "                          subplot_titles=[\"Total Pageviews - Count\", \"Total Pageviews - Non-zero Revenue Count\", \"Total Pageviews - Mean Revenue\",\n",
    "                                          \"Total Hits - Count\",  \"Total Hits - Non-zero Revenue Count\", \"Total Hits - Mean Revenue\"])\n",
    "\n",
    "fig.append_trace(trace1, 1, 1)\n",
    "fig.append_trace(trace2, 1, 2)\n",
    "fig.append_trace(trace5, 1, 3)\n",
    "fig.append_trace(trace3, 2, 1)\n",
    "fig.append_trace(trace4, 2, 2)\n",
    "fig.append_trace(trace6, 2, 3)\n",
    "\n",
    "fig['layout'].update(height=1200, width=900, paper_bgcolor='rgb(233,233,233)', title=\"Visitor Profile Plots\")\n",
    "py.iplot(fig, filename='visitor-profile-plots')"
   ]
  },
  {
   "cell_type": "code",
   "execution_count": 22,
   "metadata": {},
   "outputs": [
    {
     "data": {
      "text/plain": [
       "['socialEngagementType',\n",
       " 'device.browserSize',\n",
       " 'device.browserVersion',\n",
       " 'device.flashVersion',\n",
       " 'device.language',\n",
       " 'device.mobileDeviceBranding',\n",
       " 'device.mobileDeviceInfo',\n",
       " 'device.mobileDeviceMarketingName',\n",
       " 'device.mobileDeviceModel',\n",
       " 'device.mobileInputSelector',\n",
       " 'device.operatingSystemVersion',\n",
       " 'device.screenColors',\n",
       " 'device.screenResolution',\n",
       " 'geoNetwork.cityId',\n",
       " 'geoNetwork.latitude',\n",
       " 'geoNetwork.longitude',\n",
       " 'geoNetwork.networkLocation',\n",
       " 'totals.visits',\n",
       " 'trafficSource.adwordsClickInfo.criteriaParameters']"
      ]
     },
     "execution_count": 22,
     "metadata": {},
     "output_type": "execute_result"
    }
   ],
   "source": [
    "# Dropping oonstant columns\n",
    "# Many columns have constant values in the dataset which wont help in the modelling and hence can be omitted\n",
    "const_cols = [c for c in train_df.columns if train_df[c].nunique(dropna=False)==1 ]\n",
    "const_cols\n",
    "\n"
   ]
  },
  {
   "cell_type": "code",
   "execution_count": 38,
   "metadata": {},
   "outputs": [
    {
     "name": "stdout",
     "output_type": "stream",
     "text": [
      "Variables not in test but in train :  set()\n"
     ]
    },
    {
     "data": {
      "text/plain": [
       "Index(['channelGrouping', 'customDimensions', 'date', 'fullVisitorId', 'hits',\n",
       "       'socialEngagementType', 'visitId', 'visitNumber', 'visitStartTime',\n",
       "       'device.browser', 'device.browserSize', 'device.browserVersion',\n",
       "       'device.deviceCategory', 'device.flashVersion', 'device.isMobile',\n",
       "       'device.language', 'device.mobileDeviceBranding',\n",
       "       'device.mobileDeviceInfo', 'device.mobileDeviceMarketingName',\n",
       "       'device.mobileDeviceModel', 'device.mobileInputSelector',\n",
       "       'device.operatingSystem', 'device.operatingSystemVersion',\n",
       "       'device.screenColors', 'device.screenResolution', 'geoNetwork.city',\n",
       "       'geoNetwork.cityId', 'geoNetwork.continent', 'geoNetwork.country',\n",
       "       'geoNetwork.latitude', 'geoNetwork.longitude', 'geoNetwork.metro',\n",
       "       'geoNetwork.networkDomain', 'geoNetwork.networkLocation',\n",
       "       'geoNetwork.region', 'geoNetwork.subContinent', 'totals.bounces',\n",
       "       'totals.hits', 'totals.newVisits', 'totals.pageviews',\n",
       "       'totals.sessionQualityDim', 'totals.timeOnSite',\n",
       "       'totals.totalTransactionRevenue', 'totals.transactionRevenue',\n",
       "       'totals.transactions', 'totals.visits', 'trafficSource.adContent',\n",
       "       'trafficSource.adwordsClickInfo.adNetworkType',\n",
       "       'trafficSource.adwordsClickInfo.criteriaParameters',\n",
       "       'trafficSource.adwordsClickInfo.gclId',\n",
       "       'trafficSource.adwordsClickInfo.isVideoAd',\n",
       "       'trafficSource.adwordsClickInfo.page',\n",
       "       'trafficSource.adwordsClickInfo.slot', 'trafficSource.campaign',\n",
       "       'trafficSource.isTrueDirect', 'trafficSource.keyword',\n",
       "       'trafficSource.medium', 'trafficSource.referralPath',\n",
       "       'trafficSource.source'],\n",
       "      dtype='object')"
      ]
     },
     "execution_count": 38,
     "metadata": {},
     "output_type": "execute_result"
    }
   ],
   "source": [
    "print(\"Variables not in test but in train : \", (set(train_df.columns).difference(set(test_df.columns))))\n",
    "test_df.columns\n",
    "# All columns are present in both the train set and test set\n",
    "\n"
   ]
  },
  {
   "cell_type": "code",
   "execution_count": 40,
   "metadata": {},
   "outputs": [],
   "source": [
    "cols_to_drop = const_cols \n",
    "train_df = train_df.drop(cols_to_drop , axis=1)\n",
    "test_df = test_df.drop(cols_to_drop, axis=1)"
   ]
  },
  {
   "cell_type": "code",
   "execution_count": 41,
   "metadata": {},
   "outputs": [
    {
     "name": "stdout",
     "output_type": "stream",
     "text": [
      "This is the format of your plot grid:\n",
      "[ (1,1) x1,y1 ]\n",
      "[ (2,1) x2,y2 ]\n",
      "\n"
     ]
    },
    {
     "data": {
      "application/vnd.plotly.v1+json": {
       "config": {
        "linkText": "Export to plot.ly",
        "plotlyServerURL": "https://plot.ly",
        "showLink": false
       },
       "data": [
        {
         "marker": {
          "color": "red"
         },
         "showlegend": false,
         "type": "scatter",
         "uid": "dc3c4101-1218-4d31-b4a5-a7f87d977b98",
         "x": [
          "2018-04-15",
          "2017-11-30",
          "2017-11-11",
          "2017-11-10",
          "2017-10-16",
          "2017-06-23",
          "2017-06-13",
          "2017-03-12",
          "2017-02-03",
          "2017-01-26",
          "2017-01-13",
          "2016-09-02",
          "2016-08-11"
         ],
         "xaxis": "x",
         "y": [
          2089,
          3178,
          863,
          3186,
          2989,
          2095,
          2181,
          1781,
          2182,
          2209,
          1967,
          2613,
          2667
         ],
         "yaxis": "y"
        },
        {
         "marker": {
          "color": "blue"
         },
         "showlegend": false,
         "type": "scatter",
         "uid": "afebbe22-4792-40c4-b528-a9fccd00f229",
         "x": [
          "2018-04-15",
          "2017-11-30",
          "2017-11-11",
          "2017-11-10",
          "2017-10-16",
          "2017-06-23",
          "2017-06-13",
          "2017-03-12",
          "2017-02-03",
          "2017-01-26",
          "2017-01-13",
          "2016-09-02",
          "2016-08-11"
         ],
         "xaxis": "x2",
         "y": [
          14,
          21,
          7,
          14,
          24,
          26,
          48,
          11,
          29,
          27,
          28,
          27,
          45
         ],
         "yaxis": "y2"
        }
       ],
       "layout": {
        "annotations": [
         {
          "font": {
           "size": 16
          },
          "showarrow": false,
          "text": "Date - Count",
          "x": 0.5,
          "xanchor": "center",
          "xref": "paper",
          "y": 1,
          "yanchor": "bottom",
          "yref": "paper"
         },
         {
          "font": {
           "size": 16
          },
          "showarrow": false,
          "text": "Date - Non-zero Revenue count",
          "x": 0.5,
          "xanchor": "center",
          "xref": "paper",
          "y": 0.46,
          "yanchor": "bottom",
          "yref": "paper"
         }
        ],
        "height": 800,
        "paper_bgcolor": "rgb(233,233,233)",
        "title": {
         "text": "Date Plots"
        },
        "width": 800,
        "xaxis": {
         "anchor": "y",
         "domain": [
          0,
          1
         ]
        },
        "xaxis2": {
         "anchor": "y2",
         "domain": [
          0,
          1
         ]
        },
        "yaxis": {
         "anchor": "x",
         "domain": [
          0.54,
          1
         ]
        },
        "yaxis2": {
         "anchor": "x2",
         "domain": [
          0,
          0.46
         ]
        }
       }
      },
      "text/html": [
       "<div>\n",
       "        \n",
       "        \n",
       "            <div id=\"350fbd23-df6c-42b6-a26e-eba98477e8ac\" class=\"plotly-graph-div\" style=\"height:800px; width:800px;\"></div>\n",
       "            <script type=\"text/javascript\">\n",
       "                require([\"plotly\"], function(Plotly) {\n",
       "                    window.PLOTLYENV=window.PLOTLYENV || {};\n",
       "                    window.PLOTLYENV.BASE_URL='https://plot.ly';\n",
       "                    \n",
       "                if (document.getElementById(\"350fbd23-df6c-42b6-a26e-eba98477e8ac\")) {\n",
       "                    Plotly.newPlot(\n",
       "                        '350fbd23-df6c-42b6-a26e-eba98477e8ac',\n",
       "                        [{\"marker\": {\"color\": \"red\"}, \"showlegend\": false, \"type\": \"scatter\", \"uid\": \"dc3c4101-1218-4d31-b4a5-a7f87d977b98\", \"x\": [\"2018-04-15\", \"2017-11-30\", \"2017-11-11\", \"2017-11-10\", \"2017-10-16\", \"2017-06-23\", \"2017-06-13\", \"2017-03-12\", \"2017-02-03\", \"2017-01-26\", \"2017-01-13\", \"2016-09-02\", \"2016-08-11\"], \"xaxis\": \"x\", \"y\": [2089, 3178, 863, 3186, 2989, 2095, 2181, 1781, 2182, 2209, 1967, 2613, 2667], \"yaxis\": \"y\"}, {\"marker\": {\"color\": \"blue\"}, \"showlegend\": false, \"type\": \"scatter\", \"uid\": \"afebbe22-4792-40c4-b528-a9fccd00f229\", \"x\": [\"2018-04-15\", \"2017-11-30\", \"2017-11-11\", \"2017-11-10\", \"2017-10-16\", \"2017-06-23\", \"2017-06-13\", \"2017-03-12\", \"2017-02-03\", \"2017-01-26\", \"2017-01-13\", \"2016-09-02\", \"2016-08-11\"], \"xaxis\": \"x2\", \"y\": [14, 21, 7, 14, 24, 26, 48, 11, 29, 27, 28, 27, 45], \"yaxis\": \"y2\"}],\n",
       "                        {\"annotations\": [{\"font\": {\"size\": 16}, \"showarrow\": false, \"text\": \"Date - Count\", \"x\": 0.5, \"xanchor\": \"center\", \"xref\": \"paper\", \"y\": 1.0, \"yanchor\": \"bottom\", \"yref\": \"paper\"}, {\"font\": {\"size\": 16}, \"showarrow\": false, \"text\": \"Date - Non-zero Revenue count\", \"x\": 0.5, \"xanchor\": \"center\", \"xref\": \"paper\", \"y\": 0.46, \"yanchor\": \"bottom\", \"yref\": \"paper\"}], \"height\": 800, \"paper_bgcolor\": \"rgb(233,233,233)\", \"title\": {\"text\": \"Date Plots\"}, \"width\": 800, \"xaxis\": {\"anchor\": \"y\", \"domain\": [0.0, 1.0]}, \"xaxis2\": {\"anchor\": \"y2\", \"domain\": [0.0, 1.0]}, \"yaxis\": {\"anchor\": \"x\", \"domain\": [0.54, 1.0]}, \"yaxis2\": {\"anchor\": \"x2\", \"domain\": [0.0, 0.46]}},\n",
       "                        {\"showLink\": false, \"linkText\": \"Export to plot.ly\", \"plotlyServerURL\": \"https://plot.ly\", \"responsive\": true}\n",
       "                    ).then(function(){\n",
       "                            \n",
       "var gd = document.getElementById('350fbd23-df6c-42b6-a26e-eba98477e8ac');\n",
       "var x = new MutationObserver(function (mutations, observer) {{\n",
       "        var display = window.getComputedStyle(gd).display;\n",
       "        if (!display || display === 'none') {{\n",
       "            console.log([gd, 'removed!']);\n",
       "            Plotly.purge(gd);\n",
       "            observer.disconnect();\n",
       "        }}\n",
       "}});\n",
       "\n",
       "// Listen for the removal of the full notebook cells\n",
       "var notebookContainer = gd.closest('#notebook-container');\n",
       "if (notebookContainer) {{\n",
       "    x.observe(notebookContainer, {childList: true});\n",
       "}}\n",
       "\n",
       "// Listen for the clearing of the current output cell\n",
       "var outputEl = gd.closest('.output');\n",
       "if (outputEl) {{\n",
       "    x.observe(outputEl, {childList: true});\n",
       "}}\n",
       "\n",
       "                        })\n",
       "                };\n",
       "                });\n",
       "            </script>\n",
       "        </div>"
      ]
     },
     "metadata": {},
     "output_type": "display_data"
    }
   ],
   "source": [
    "## Trying to get the date ranges in train and test set \n",
    "\n",
    "import datetime\n",
    "\n",
    "def scatter_plot(cnt_srs, color):\n",
    "    trace = go.Scatter(\n",
    "        x=cnt_srs.index[::-1],\n",
    "        y=cnt_srs.values[::-1],\n",
    "        showlegend=False,\n",
    "        marker=dict(\n",
    "            color=color,\n",
    "        ),\n",
    "    )\n",
    "    return trace\n",
    "\n",
    "train_df['date'] = train_df['date'].apply(lambda x: datetime.date(int(str(x)[:4]), int(str(x)[4:6]), int(str(x)[6:])))\n",
    "cnt_srs = train_df.groupby('date')['totals.transactionRevenue'].agg(['size', 'count'])\n",
    "cnt_srs.columns = [\"count\", \"count of non-zero revenue\"]\n",
    "cnt_srs = cnt_srs.sort_index()\n",
    "#cnt_srs.index = cnt_srs.index.astype('str')\n",
    "trace1 = scatter_plot(cnt_srs[\"count\"], 'red')\n",
    "trace2 = scatter_plot(cnt_srs[\"count of non-zero revenue\"], 'blue')\n",
    "\n",
    "fig = tools.make_subplots(rows=2, cols=1, vertical_spacing=0.08,\n",
    "                          subplot_titles=[\"Date - Count\", \"Date - Non-zero Revenue count\"])\n",
    "fig.append_trace(trace1, 1, 1)\n",
    "fig.append_trace(trace2, 2, 1)\n",
    "fig['layout'].update(height=800, width=800, paper_bgcolor='rgb(233,233,233)', title=\"Date Plots\")\n",
    "py.iplot(fig, filename='date-plots')\n"
   ]
  },
  {
   "cell_type": "code",
   "execution_count": null,
   "metadata": {},
   "outputs": [],
   "source": [
    "test_df['date'] = test_df['date'].apply(lambda x: datetime.date(int(str(x)[:4]), int(str(x)[4:6]), int(str(x)[6:])))\n",
    "cnt_srs = test_df.groupby('date')['fullVisitorId'].size()\n",
    "\n",
    "\n",
    "trace = scatter_plot(cnt_srs, 'red')\n",
    "\n",
    "layout = go.Layout(\n",
    "    height=400,\n",
    "    width=800,\n",
    "    paper_bgcolor='rgb(233,233,233)',\n",
    "    title='Dates in Test set'\n",
    ")\n",
    "\n",
    "data = [trace]\n",
    "fig = go.Figure(data=data, layout=layout)\n",
    "py.iplot(fig, filename=\"ActivationDate\")"
   ]
  },
  {
   "cell_type": "code",
   "execution_count": null,
   "metadata": {},
   "outputs": [],
   "source": [
    "    "
   ]
  }
 ],
 "metadata": {
  "kernelspec": {
   "display_name": "Python 3",
   "language": "python",
   "name": "python3"
  },
  "language_info": {
   "codemirror_mode": {
    "name": "ipython",
    "version": 3
   },
   "file_extension": ".py",
   "mimetype": "text/x-python",
   "name": "python",
   "nbconvert_exporter": "python",
   "pygments_lexer": "ipython3",
   "version": "3.7.3"
  }
 },
 "nbformat": 4,
 "nbformat_minor": 2
}
